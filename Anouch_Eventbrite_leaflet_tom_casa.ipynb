{
 "metadata": {
  "name": "",
  "signature": "sha256:41a6f1ac50c03ce3db3078159ec6c91044834e8baa669aa60916f78e357faf3e"
 },
 "nbformat": 3,
 "nbformat_minor": 0,
 "worksheets": [
  {
   "cells": [
    {
     "cell_type": "code",
     "collapsed": false,
     "input": [
      "import requests\n",
      "import json\n",
      "import pandas as pd"
     ],
     "language": "python",
     "metadata": {},
     "outputs": [],
     "prompt_number": 5
    },
    {
     "cell_type": "code",
     "collapsed": false,
     "input": [
      "# example get request: if u have just this in the browser it works\n",
      "# https://www.eventbriteapi.com/v3/users/me/?token=##\n",
      "\n",
      "def get_events(page): #  funct(argument) : must pass in the page number\n",
      "    token = \"HWAHYIYGUC4XIK2NR334\" ## put your Eventbrite Personal OAuth token in this string =) create one do not use mine please :-\n",
      "    # set params for API request. Docs:\n",
      "    data = {\n",
      "        \"expand\":\"category,ticket_classes,venue\",\n",
      "        \"venue.city\": \"london\",\n",
      "        \"start_date.range_start\": \"2016-04-15T10:00:00\",\n",
      "        \"start_date.range_end\": \"2016-04-22T21:00:00\",\n",
      "        \"sort_by\":\"date\",\n",
      "        \"page\": page , # request page from API\n",
      "    }\n",
      "        \n",
      "    response = requests.get(  #make an http request (insteaf of get =put,post,delete) \n",
      "        \"https://www.eventbriteapi.com/v3/events/search/\", #URL\n",
      "        headers = {  # headers = metadata (ex :cooky)      #header (=object) = KEY + VALUE\n",
      "            \"Authorization\": \"Bearer \"+token,             # \"Bearer\" is specific to eventbrite API\n",
      "        },      \n",
      "        params=data,  # question marks = all the infos at the end of the url (everything foldng up into a string)\n",
      "        verify = True,  # Verify SSL certificate (because our url statrs with htpps = secure url)\n",
      "    )\n",
      " \n",
      "    return response.json()\n",
      "\n",
      "\n",
      "events = [] #create empty array of events\n",
      "last = False #are we on the last page? \n",
      "page = 1     #current page number\n",
      "\n",
      "while(not last): #while not on last page\n",
      "    \n",
      "    r = get_events(page)  #get this page of events\n",
      "    print str(page) + \" of \" + str(r['pagination']['page_count'])\n",
      "    events = events + r['events']\n",
      "    last = r['pagination']['page_count'] == page\n",
      "    page = page + 1\n",
      "    \n",
      "\u001c"
     ],
     "language": "python",
     "metadata": {},
     "outputs": [
      {
       "output_type": "stream",
       "stream": "stdout",
       "text": [
        "1 of 37\n",
        "2 of 37"
       ]
      },
      {
       "output_type": "stream",
       "stream": "stdout",
       "text": [
        "\n",
        "3 of 37"
       ]
      },
      {
       "output_type": "stream",
       "stream": "stdout",
       "text": [
        "\n",
        "4 of 37"
       ]
      },
      {
       "output_type": "stream",
       "stream": "stdout",
       "text": [
        "\n",
        "5 of 37"
       ]
      },
      {
       "output_type": "stream",
       "stream": "stdout",
       "text": [
        "\n",
        "6 of 37"
       ]
      },
      {
       "output_type": "stream",
       "stream": "stdout",
       "text": [
        "\n",
        "7 of 37"
       ]
      },
      {
       "output_type": "stream",
       "stream": "stdout",
       "text": [
        "\n",
        "8 of 37"
       ]
      },
      {
       "output_type": "stream",
       "stream": "stdout",
       "text": [
        "\n",
        "9 of 37"
       ]
      },
      {
       "output_type": "stream",
       "stream": "stdout",
       "text": [
        "\n",
        "10 of 37"
       ]
      },
      {
       "output_type": "stream",
       "stream": "stdout",
       "text": [
        "\n",
        "11 of 37"
       ]
      },
      {
       "output_type": "stream",
       "stream": "stdout",
       "text": [
        "\n",
        "12 of 37"
       ]
      },
      {
       "output_type": "stream",
       "stream": "stdout",
       "text": [
        "\n",
        "13 of 37"
       ]
      },
      {
       "output_type": "stream",
       "stream": "stdout",
       "text": [
        "\n",
        "14 of 37"
       ]
      },
      {
       "output_type": "stream",
       "stream": "stdout",
       "text": [
        "\n",
        "15 of 37"
       ]
      },
      {
       "output_type": "stream",
       "stream": "stdout",
       "text": [
        "\n",
        "16 of 37"
       ]
      },
      {
       "output_type": "stream",
       "stream": "stdout",
       "text": [
        "\n",
        "17 of 37"
       ]
      },
      {
       "output_type": "stream",
       "stream": "stdout",
       "text": [
        "\n",
        "18 of 37"
       ]
      },
      {
       "output_type": "stream",
       "stream": "stdout",
       "text": [
        "\n",
        "19 of 37"
       ]
      },
      {
       "output_type": "stream",
       "stream": "stdout",
       "text": [
        "\n",
        "20 of 37"
       ]
      },
      {
       "output_type": "stream",
       "stream": "stdout",
       "text": [
        "\n",
        "21 of 37"
       ]
      },
      {
       "output_type": "stream",
       "stream": "stdout",
       "text": [
        "\n",
        "22 of 37"
       ]
      },
      {
       "output_type": "stream",
       "stream": "stdout",
       "text": [
        "\n",
        "23 of 37"
       ]
      },
      {
       "output_type": "stream",
       "stream": "stdout",
       "text": [
        "\n",
        "24 of 37"
       ]
      },
      {
       "output_type": "stream",
       "stream": "stdout",
       "text": [
        "\n",
        "25 of 37"
       ]
      },
      {
       "output_type": "stream",
       "stream": "stdout",
       "text": [
        "\n",
        "26 of 37"
       ]
      },
      {
       "output_type": "stream",
       "stream": "stdout",
       "text": [
        "\n",
        "27 of 37"
       ]
      },
      {
       "output_type": "stream",
       "stream": "stdout",
       "text": [
        "\n",
        "28 of 37"
       ]
      },
      {
       "output_type": "stream",
       "stream": "stdout",
       "text": [
        "\n",
        "29 of 37"
       ]
      },
      {
       "output_type": "stream",
       "stream": "stdout",
       "text": [
        "\n",
        "30 of 37"
       ]
      },
      {
       "output_type": "stream",
       "stream": "stdout",
       "text": [
        "\n",
        "31 of 37"
       ]
      },
      {
       "output_type": "stream",
       "stream": "stdout",
       "text": [
        "\n",
        "32 of 37"
       ]
      },
      {
       "output_type": "stream",
       "stream": "stdout",
       "text": [
        "\n",
        "33 of 37"
       ]
      },
      {
       "output_type": "stream",
       "stream": "stdout",
       "text": [
        "\n",
        "34 of 37"
       ]
      },
      {
       "output_type": "stream",
       "stream": "stdout",
       "text": [
        "\n",
        "35 of 37"
       ]
      },
      {
       "output_type": "stream",
       "stream": "stdout",
       "text": [
        "\n",
        "36 of 37"
       ]
      },
      {
       "output_type": "stream",
       "stream": "stdout",
       "text": [
        "\n",
        "37 of 37"
       ]
      },
      {
       "output_type": "stream",
       "stream": "stdout",
       "text": [
        "\n"
       ]
      }
     ],
     "prompt_number": 11
    },
    {
     "cell_type": "code",
     "collapsed": false,
     "input": [
      "len(events)"
     ],
     "language": "python",
     "metadata": {},
     "outputs": [
      {
       "metadata": {},
       "output_type": "pyout",
       "prompt_number": 49,
       "text": [
        "1807"
       ]
      }
     ],
     "prompt_number": 49
    },
    {
     "cell_type": "code",
     "collapsed": false,
     "input": [
      "from pandas.io.json import json_normalize"
     ],
     "language": "python",
     "metadata": {},
     "outputs": [],
     "prompt_number": 50
    },
    {
     "cell_type": "code",
     "collapsed": false,
     "input": [
      "test = json_normalize(events)\n",
      "#sorted(set(test))\n",
      "#test"
     ],
     "language": "python",
     "metadata": {},
     "outputs": [],
     "prompt_number": 51
    },
    {
     "cell_type": "code",
     "collapsed": false,
     "input": [
      "#test[\"category.name\"]"
     ],
     "language": "python",
     "metadata": {},
     "outputs": [],
     "prompt_number": 52
    },
    {
     "cell_type": "code",
     "collapsed": false,
     "input": [
      "#create a list of dictionaries, one dict for each event\n",
      "filtered_events = []\n",
      "\n",
      "for i, event in test.iterrows(): # loop over the full data frame\n",
      "    # save just the fields that we are interested in\n",
      "    \n",
      "    cat_name = event['category.name']\n",
      "    if cat_name == \"Film, Media & Entertainment\" or cat_name == \"Performing & Visual Arts\" or cat_name == \"Community & Culture\" or cat_name == \"Music\" :\n",
      "        cat_name = \"Culture & Art\"\n",
      "        \n",
      "    if cat_name == \"Religion & Spirituality\" or cat_name == \"Family & Education\" or cat_name == \"Science & Technology\" or cat_name == \"Government & Politics\" or cat_name == \"Business & Professional\": \n",
      "            cat_name = \"Business & Education\"\n",
      "    \n",
      "    if cat_name == \"Seasonal & Holiday\" or cat_name == \"Sports & Fitness\" or cat_name == \"Travel & Outdoor\" or cat_name ==\"Auto, Boat & Air\": \n",
      "        cat_name = \"Sport & Travel\"\n",
      "            \n",
      "    if cat_name == \"Fashion & Beauty\" or cat_name == \"Health & Wellness\" : cat_name = \"Fashion & Health\" \n",
      "    \n",
      "    if cat_name == \"Food & Drink\" : cat_name = \"Food & Drink\" \n",
      "        \n",
      "    if cat_name == \"Home & Lifestyle\" or cat_name == \"Hobbies & Special Interest\" or cat_name == \"Charity & Causes\" or cat_name == \"Other\":\n",
      "        cat_name = \"Others\"\n",
      "    \n",
      "    # make a loop for the price : from minimum to maximum \n",
      "    # do it in javascipt, for now extract only the data i need to make class of prices with leaflet\n",
      "    #inner loop :\n",
      "     \n",
      "    \n",
      "    prices = []\n",
      "    any_donation = False\n",
      "    availability = []\n",
      "    \n",
      "    for ticket in event['ticket_classes']:\n",
      "        if 'on_sale_status' in ticket and (ticket['on_sale_status'] == 'SOLD_OUT' or ticket['on_sale_status'] == 'UNAVAILABLE'):\n",
      "            availability.append(False)\n",
      "        else:\n",
      "            availability.append(True)\n",
      "            \n",
      "            if ticket['free'] or ticket['donation']:\n",
      "                prices.append(0)\n",
      "            else:\n",
      "                prices.append(ticket['cost']['value'])     \n",
      "            if ticket['donation']:\n",
      "                any_donation = True   \n",
      "            \n",
      "    #if no tickets display the prices as none        \n",
      "    if len(prices) > 0:\n",
      "        min_price = min(prices)\n",
      "        max_price = max(prices)\n",
      "    else:\n",
      "        min_price = None\n",
      "        max_price = None  \n",
      "            \n",
      "            \n",
      "    e = { \n",
      "        \"category\": cat_name ,\n",
      "        \"name\": event['name.text'],\n",
      "        \"venue\" : event['venue.name'],\n",
      "        \"start\":event['start.utc'],\n",
      "        \"end\" :event['end.utc'],\n",
      "        \"postcode\" : event['venue.address.postal_code'],\n",
      "        \"Adress\" : event['venue.address.address_1'],\n",
      "        \"latitutde\":event['venue.address.latitude'],\n",
      "        \"longitude\":event['venue.address.longitude'],\n",
      "        \"min_price\": min_price,\n",
      "        \"max_price\": max_price,\n",
      "        \"availability\": any(availability),\n",
      "        \"donation\": any_donation,\n",
      "        } \n",
      "    \n",
      "    # append to output\n",
      "    filtered_events.append(e)\n",
      "    # info about all events : \n",
      "    # if event['ticket_classes'] :\n",
      "           \n",
      "    # to get info about just the first event donation :\n",
      "    #if len(event['ticket_classes']) > 0 and event['ticket_classes'][0]['donation']:\n",
      "       # print e\n",
      "        #break allows to see the result for the first event \n",
      "       # break #stop looping use for loops test\n",
      "    \n",
      "#filtered_events"
     ],
     "language": "python",
     "metadata": {},
     "outputs": [],
     "prompt_number": 78
    },
    {
     "cell_type": "code",
     "collapsed": false,
     "input": [
      "final_set = json_normalize(filtered_events)\n",
      "#final_set\n",
      "final_set.dtypes"
     ],
     "language": "python",
     "metadata": {},
     "outputs": [
      {
       "metadata": {},
       "output_type": "pyout",
       "prompt_number": 79,
       "text": [
        "Adress           object\n",
        "availability       bool\n",
        "category         object\n",
        "donation           bool\n",
        "end              object\n",
        "latitutde       float64\n",
        "longitude       float64\n",
        "max_price       float64\n",
        "min_price       float64\n",
        "name             object\n",
        "postcode         object\n",
        "start            object\n",
        "venue            object\n",
        "dtype: object"
       ]
      }
     ],
     "prompt_number": 79
    },
    {
     "cell_type": "code",
     "collapsed": false,
     "input": [
      "df=pd.DataFrame(final_set)\n",
      "df.head()"
     ],
     "language": "python",
     "metadata": {},
     "outputs": [
      {
       "html": [
        "<div style=\"max-height:1000px;max-width:1500px;overflow:auto;\">\n",
        "<table border=\"1\" class=\"dataframe\">\n",
        "  <thead>\n",
        "    <tr style=\"text-align: right;\">\n",
        "      <th></th>\n",
        "      <th>Adress</th>\n",
        "      <th>availability</th>\n",
        "      <th>category</th>\n",
        "      <th>donation</th>\n",
        "      <th>end</th>\n",
        "      <th>latitutde</th>\n",
        "      <th>longitude</th>\n",
        "      <th>max_price</th>\n",
        "      <th>min_price</th>\n",
        "      <th>name</th>\n",
        "      <th>postcode</th>\n",
        "      <th>start</th>\n",
        "      <th>venue</th>\n",
        "    </tr>\n",
        "  </thead>\n",
        "  <tbody>\n",
        "    <tr>\n",
        "      <th>0</th>\n",
        "      <td>                                  None</td>\n",
        "      <td> True</td>\n",
        "      <td>     Fashion &amp; Health</td>\n",
        "      <td> False</td>\n",
        "      <td> 2016-04-15T12:00:00Z</td>\n",
        "      <td> 51.507351</td>\n",
        "      <td>-0.127758</td>\n",
        "      <td>  9500</td>\n",
        "      <td>  9500</td>\n",
        "      <td>                             Classic Shopping Tour</td>\n",
        "      <td>     None</td>\n",
        "      <td> 2016-04-15T09:00:00Z</td>\n",
        "      <td>                             London</td>\n",
        "    </tr>\n",
        "    <tr>\n",
        "      <th>1</th>\n",
        "      <td>             118A Kensington Church St</td>\n",
        "      <td> True</td>\n",
        "      <td> Business &amp; Education</td>\n",
        "      <td> False</td>\n",
        "      <td> 2016-04-15T16:00:00Z</td>\n",
        "      <td> 51.506933</td>\n",
        "      <td>-0.194422</td>\n",
        "      <td> 45600</td>\n",
        "      <td> 45600</td>\n",
        "      <td>              Copy-Editing \u2013 1 Day Training Course</td>\n",
        "      <td>   W8 4BH</td>\n",
        "      <td> 2016-04-15T09:00:00Z</td>\n",
        "      <td>        London School Of Publishing</td>\n",
        "    </tr>\n",
        "    <tr>\n",
        "      <th>2</th>\n",
        "      <td>                           Rise London</td>\n",
        "      <td> True</td>\n",
        "      <td> Business &amp; Education</td>\n",
        "      <td> False</td>\n",
        "      <td> 2016-04-15T12:00:00Z</td>\n",
        "      <td> 51.501965</td>\n",
        "      <td>-0.254761</td>\n",
        "      <td>  7500</td>\n",
        "      <td>  7500</td>\n",
        "      <td>           Crowdfunding Workshop For Entrepreneurs</td>\n",
        "      <td>   E1 4TT</td>\n",
        "      <td> 2016-04-15T09:00:00Z</td>\n",
        "      <td> Central Working - Whitechapel Club</td>\n",
        "    </tr>\n",
        "    <tr>\n",
        "      <th>3</th>\n",
        "      <td>                    14 Devonshire Mews</td>\n",
        "      <td> True</td>\n",
        "      <td> Business &amp; Education</td>\n",
        "      <td> False</td>\n",
        "      <td> 2016-04-15T09:30:00Z</td>\n",
        "      <td> 51.491800</td>\n",
        "      <td>-0.256300</td>\n",
        "      <td>     0</td>\n",
        "      <td>     0</td>\n",
        "      <td>              Duty planner service: advice surgery</td>\n",
        "      <td>   W4 2HA</td>\n",
        "      <td> 2016-04-15T09:00:00Z</td>\n",
        "      <td>                   MZA Planning Ltd</td>\n",
        "    </tr>\n",
        "    <tr>\n",
        "      <th>4</th>\n",
        "      <td> UCL Arena Room, 1-19 Torrington Place</td>\n",
        "      <td> True</td>\n",
        "      <td>                  NaN</td>\n",
        "      <td> False</td>\n",
        "      <td> 2016-04-15T11:00:00Z</td>\n",
        "      <td>  0.000000</td>\n",
        "      <td> 0.000000</td>\n",
        "      <td>     0</td>\n",
        "      <td>     0</td>\n",
        "      <td> Engaging Students as Partners in Teaching and ...</td>\n",
        "      <td> WC13 7HB</td>\n",
        "      <td> 2016-04-15T09:00:00Z</td>\n",
        "      <td>                                UCL</td>\n",
        "    </tr>\n",
        "  </tbody>\n",
        "</table>\n",
        "</div>"
       ],
       "metadata": {},
       "output_type": "pyout",
       "prompt_number": 76,
       "text": [
        "                                  Adress availability              category  \\\n",
        "0                                   None         True      Fashion & Health   \n",
        "1              118A Kensington Church St         True  Business & Education   \n",
        "2                            Rise London         True  Business & Education   \n",
        "3                     14 Devonshire Mews         True  Business & Education   \n",
        "4  UCL Arena Room, 1-19 Torrington Place         True                   NaN   \n",
        "\n",
        "  donation                   end  latitutde  longitude  max_price  min_price  \\\n",
        "0    False  2016-04-15T12:00:00Z  51.507351  -0.127758       9500       9500   \n",
        "1    False  2016-04-15T16:00:00Z  51.506933  -0.194422      45600      45600   \n",
        "2    False  2016-04-15T12:00:00Z  51.501965  -0.254761       7500       7500   \n",
        "3    False  2016-04-15T09:30:00Z  51.491800  -0.256300          0          0   \n",
        "4    False  2016-04-15T11:00:00Z   0.000000   0.000000          0          0   \n",
        "\n",
        "                                                name  postcode  \\\n",
        "0                              Classic Shopping Tour      None   \n",
        "1               Copy-Editing \u2013 1 Day Training Course    W8 4BH   \n",
        "2            Crowdfunding Workshop For Entrepreneurs    E1 4TT   \n",
        "3               Duty planner service: advice surgery    W4 2HA   \n",
        "4  Engaging Students as Partners in Teaching and ...  WC13 7HB   \n",
        "\n",
        "                  start                               venue  \n",
        "0  2016-04-15T09:00:00Z                              London  \n",
        "1  2016-04-15T09:00:00Z         London School Of Publishing  \n",
        "2  2016-04-15T09:00:00Z  Central Working - Whitechapel Club  \n",
        "3  2016-04-15T09:00:00Z                    MZA Planning Ltd  \n",
        "4  2016-04-15T09:00:00Z                                 UCL  "
       ]
      }
     ],
     "prompt_number": 76
    },
    {
     "cell_type": "code",
     "collapsed": false,
     "input": [
      "##TO DO :\n",
      "\n",
      "#daterime issues : create new columns with\n",
      "# string : a pretty one \"Tuesday 9pm \"\n",
      "# integers : for the \n",
      "# unix time = integers number of seconds since 1st Jan 1970 for the slider (timeline)\n",
      "\n",
      "\n",
      "##Python format time\n",
      "## from time import strftime\n",
      "##strftime()"
     ],
     "language": "python",
     "metadata": {},
     "outputs": []
    },
    {
     "cell_type": "code",
     "collapsed": false,
     "input": [
      "df.to_csv('/Users/anouchkalettre/Desktop/PRESENTATION/final_set_csv', engine='python', encoding='utf8', sep=',')"
     ],
     "language": "python",
     "metadata": {},
     "outputs": [],
     "prompt_number": 77
    },
    {
     "cell_type": "code",
     "collapsed": false,
     "input": [
      "#df.to_json('/Users/anouchkalettre/Desktop/PRESENTATION/final_set_json')\n",
      "#http://casa-dv.github.io/future-bus-stops/"
     ],
     "language": "python",
     "metadata": {},
     "outputs": [],
     "prompt_number": 29
    }
   ],
   "metadata": {}
  }
 ]
}