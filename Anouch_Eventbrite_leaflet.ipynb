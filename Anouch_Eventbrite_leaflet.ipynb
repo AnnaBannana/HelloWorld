{
 "cells": [
  {
   "cell_type": "code",
   "execution_count": 1,
   "metadata": {
    "collapsed": false
   },
   "outputs": [],
   "source": [
    "import requests\n",
    "import json\n",
    "from json import *\n",
    "import pandas as pd\n",
    "from pandas.io.json import json_normalize"
   ]
  },
  {
   "cell_type": "code",
   "execution_count": 2,
   "metadata": {
    "collapsed": false
   },
   "outputs": [
    {
     "name": "stderr",
     "output_type": "stream",
     "text": [
      "/Users/anouchkalettre/Library/Enthought/Canopy_32bit/User/lib/python2.7/site-packages/requests/packages/urllib3/util/ssl_.py:79: InsecurePlatformWarning: A true SSLContext object is not available. This prevents urllib3 from configuring SSL appropriately and may cause certain SSL connections to fail. For more information, see https://urllib3.readthedocs.org/en/latest/security.html#insecureplatformwarning.\n",
      "  InsecurePlatformWarning\n"
     ]
    },
    {
     "name": "stdout",
     "output_type": "stream",
     "text": [
      "1 of 24\n"
     ]
    },
    {
     "name": "stderr",
     "output_type": "stream",
     "text": [
      "/Users/anouchkalettre/Library/Enthought/Canopy_32bit/User/lib/python2.7/site-packages/requests/packages/urllib3/util/ssl_.py:79: InsecurePlatformWarning: A true SSLContext object is not available. This prevents urllib3 from configuring SSL appropriately and may cause certain SSL connections to fail. For more information, see https://urllib3.readthedocs.org/en/latest/security.html#insecureplatformwarning.\n",
      "  InsecurePlatformWarning\n"
     ]
    },
    {
     "name": "stdout",
     "output_type": "stream",
     "text": [
      "2 of 24\n"
     ]
    },
    {
     "name": "stderr",
     "output_type": "stream",
     "text": [
      "/Users/anouchkalettre/Library/Enthought/Canopy_32bit/User/lib/python2.7/site-packages/requests/packages/urllib3/util/ssl_.py:79: InsecurePlatformWarning: A true SSLContext object is not available. This prevents urllib3 from configuring SSL appropriately and may cause certain SSL connections to fail. For more information, see https://urllib3.readthedocs.org/en/latest/security.html#insecureplatformwarning.\n",
      "  InsecurePlatformWarning\n"
     ]
    },
    {
     "name": "stdout",
     "output_type": "stream",
     "text": [
      "3 of 24\n"
     ]
    },
    {
     "name": "stderr",
     "output_type": "stream",
     "text": [
      "/Users/anouchkalettre/Library/Enthought/Canopy_32bit/User/lib/python2.7/site-packages/requests/packages/urllib3/util/ssl_.py:79: InsecurePlatformWarning: A true SSLContext object is not available. This prevents urllib3 from configuring SSL appropriately and may cause certain SSL connections to fail. For more information, see https://urllib3.readthedocs.org/en/latest/security.html#insecureplatformwarning.\n",
      "  InsecurePlatformWarning\n"
     ]
    },
    {
     "name": "stdout",
     "output_type": "stream",
     "text": [
      "4 of 24\n"
     ]
    },
    {
     "name": "stderr",
     "output_type": "stream",
     "text": [
      "/Users/anouchkalettre/Library/Enthought/Canopy_32bit/User/lib/python2.7/site-packages/requests/packages/urllib3/util/ssl_.py:79: InsecurePlatformWarning: A true SSLContext object is not available. This prevents urllib3 from configuring SSL appropriately and may cause certain SSL connections to fail. For more information, see https://urllib3.readthedocs.org/en/latest/security.html#insecureplatformwarning.\n",
      "  InsecurePlatformWarning\n"
     ]
    },
    {
     "name": "stdout",
     "output_type": "stream",
     "text": [
      "5 of 24\n"
     ]
    },
    {
     "name": "stderr",
     "output_type": "stream",
     "text": [
      "/Users/anouchkalettre/Library/Enthought/Canopy_32bit/User/lib/python2.7/site-packages/requests/packages/urllib3/util/ssl_.py:79: InsecurePlatformWarning: A true SSLContext object is not available. This prevents urllib3 from configuring SSL appropriately and may cause certain SSL connections to fail. For more information, see https://urllib3.readthedocs.org/en/latest/security.html#insecureplatformwarning.\n",
      "  InsecurePlatformWarning\n"
     ]
    },
    {
     "name": "stdout",
     "output_type": "stream",
     "text": [
      "6 of 24\n"
     ]
    },
    {
     "name": "stderr",
     "output_type": "stream",
     "text": [
      "/Users/anouchkalettre/Library/Enthought/Canopy_32bit/User/lib/python2.7/site-packages/requests/packages/urllib3/util/ssl_.py:79: InsecurePlatformWarning: A true SSLContext object is not available. This prevents urllib3 from configuring SSL appropriately and may cause certain SSL connections to fail. For more information, see https://urllib3.readthedocs.org/en/latest/security.html#insecureplatformwarning.\n",
      "  InsecurePlatformWarning\n"
     ]
    },
    {
     "name": "stdout",
     "output_type": "stream",
     "text": [
      "7 of 24\n"
     ]
    },
    {
     "name": "stderr",
     "output_type": "stream",
     "text": [
      "/Users/anouchkalettre/Library/Enthought/Canopy_32bit/User/lib/python2.7/site-packages/requests/packages/urllib3/util/ssl_.py:79: InsecurePlatformWarning: A true SSLContext object is not available. This prevents urllib3 from configuring SSL appropriately and may cause certain SSL connections to fail. For more information, see https://urllib3.readthedocs.org/en/latest/security.html#insecureplatformwarning.\n",
      "  InsecurePlatformWarning\n"
     ]
    },
    {
     "name": "stdout",
     "output_type": "stream",
     "text": [
      "8 of 24\n"
     ]
    },
    {
     "name": "stderr",
     "output_type": "stream",
     "text": [
      "/Users/anouchkalettre/Library/Enthought/Canopy_32bit/User/lib/python2.7/site-packages/requests/packages/urllib3/util/ssl_.py:79: InsecurePlatformWarning: A true SSLContext object is not available. This prevents urllib3 from configuring SSL appropriately and may cause certain SSL connections to fail. For more information, see https://urllib3.readthedocs.org/en/latest/security.html#insecureplatformwarning.\n",
      "  InsecurePlatformWarning\n"
     ]
    },
    {
     "name": "stdout",
     "output_type": "stream",
     "text": [
      "9 of 24\n"
     ]
    },
    {
     "name": "stderr",
     "output_type": "stream",
     "text": [
      "/Users/anouchkalettre/Library/Enthought/Canopy_32bit/User/lib/python2.7/site-packages/requests/packages/urllib3/util/ssl_.py:79: InsecurePlatformWarning: A true SSLContext object is not available. This prevents urllib3 from configuring SSL appropriately and may cause certain SSL connections to fail. For more information, see https://urllib3.readthedocs.org/en/latest/security.html#insecureplatformwarning.\n",
      "  InsecurePlatformWarning\n"
     ]
    },
    {
     "name": "stdout",
     "output_type": "stream",
     "text": [
      "10 of 24\n"
     ]
    },
    {
     "name": "stderr",
     "output_type": "stream",
     "text": [
      "/Users/anouchkalettre/Library/Enthought/Canopy_32bit/User/lib/python2.7/site-packages/requests/packages/urllib3/util/ssl_.py:79: InsecurePlatformWarning: A true SSLContext object is not available. This prevents urllib3 from configuring SSL appropriately and may cause certain SSL connections to fail. For more information, see https://urllib3.readthedocs.org/en/latest/security.html#insecureplatformwarning.\n",
      "  InsecurePlatformWarning\n"
     ]
    },
    {
     "name": "stdout",
     "output_type": "stream",
     "text": [
      "11 of 24\n"
     ]
    },
    {
     "name": "stderr",
     "output_type": "stream",
     "text": [
      "/Users/anouchkalettre/Library/Enthought/Canopy_32bit/User/lib/python2.7/site-packages/requests/packages/urllib3/util/ssl_.py:79: InsecurePlatformWarning: A true SSLContext object is not available. This prevents urllib3 from configuring SSL appropriately and may cause certain SSL connections to fail. For more information, see https://urllib3.readthedocs.org/en/latest/security.html#insecureplatformwarning.\n",
      "  InsecurePlatformWarning\n"
     ]
    },
    {
     "name": "stdout",
     "output_type": "stream",
     "text": [
      "12 of 24\n"
     ]
    },
    {
     "name": "stderr",
     "output_type": "stream",
     "text": [
      "/Users/anouchkalettre/Library/Enthought/Canopy_32bit/User/lib/python2.7/site-packages/requests/packages/urllib3/util/ssl_.py:79: InsecurePlatformWarning: A true SSLContext object is not available. This prevents urllib3 from configuring SSL appropriately and may cause certain SSL connections to fail. For more information, see https://urllib3.readthedocs.org/en/latest/security.html#insecureplatformwarning.\n",
      "  InsecurePlatformWarning\n"
     ]
    },
    {
     "name": "stdout",
     "output_type": "stream",
     "text": [
      "13 of 24\n"
     ]
    },
    {
     "name": "stderr",
     "output_type": "stream",
     "text": [
      "/Users/anouchkalettre/Library/Enthought/Canopy_32bit/User/lib/python2.7/site-packages/requests/packages/urllib3/util/ssl_.py:79: InsecurePlatformWarning: A true SSLContext object is not available. This prevents urllib3 from configuring SSL appropriately and may cause certain SSL connections to fail. For more information, see https://urllib3.readthedocs.org/en/latest/security.html#insecureplatformwarning.\n",
      "  InsecurePlatformWarning\n"
     ]
    },
    {
     "name": "stdout",
     "output_type": "stream",
     "text": [
      "14 of 24\n"
     ]
    },
    {
     "name": "stderr",
     "output_type": "stream",
     "text": [
      "/Users/anouchkalettre/Library/Enthought/Canopy_32bit/User/lib/python2.7/site-packages/requests/packages/urllib3/util/ssl_.py:79: InsecurePlatformWarning: A true SSLContext object is not available. This prevents urllib3 from configuring SSL appropriately and may cause certain SSL connections to fail. For more information, see https://urllib3.readthedocs.org/en/latest/security.html#insecureplatformwarning.\n",
      "  InsecurePlatformWarning\n"
     ]
    },
    {
     "name": "stdout",
     "output_type": "stream",
     "text": [
      "15 of 24\n"
     ]
    },
    {
     "name": "stderr",
     "output_type": "stream",
     "text": [
      "/Users/anouchkalettre/Library/Enthought/Canopy_32bit/User/lib/python2.7/site-packages/requests/packages/urllib3/util/ssl_.py:79: InsecurePlatformWarning: A true SSLContext object is not available. This prevents urllib3 from configuring SSL appropriately and may cause certain SSL connections to fail. For more information, see https://urllib3.readthedocs.org/en/latest/security.html#insecureplatformwarning.\n",
      "  InsecurePlatformWarning\n"
     ]
    },
    {
     "name": "stdout",
     "output_type": "stream",
     "text": [
      "16 of 24\n"
     ]
    },
    {
     "name": "stderr",
     "output_type": "stream",
     "text": [
      "/Users/anouchkalettre/Library/Enthought/Canopy_32bit/User/lib/python2.7/site-packages/requests/packages/urllib3/util/ssl_.py:79: InsecurePlatformWarning: A true SSLContext object is not available. This prevents urllib3 from configuring SSL appropriately and may cause certain SSL connections to fail. For more information, see https://urllib3.readthedocs.org/en/latest/security.html#insecureplatformwarning.\n",
      "  InsecurePlatformWarning\n"
     ]
    },
    {
     "name": "stdout",
     "output_type": "stream",
     "text": [
      "17 of 24\n"
     ]
    },
    {
     "name": "stderr",
     "output_type": "stream",
     "text": [
      "/Users/anouchkalettre/Library/Enthought/Canopy_32bit/User/lib/python2.7/site-packages/requests/packages/urllib3/util/ssl_.py:79: InsecurePlatformWarning: A true SSLContext object is not available. This prevents urllib3 from configuring SSL appropriately and may cause certain SSL connections to fail. For more information, see https://urllib3.readthedocs.org/en/latest/security.html#insecureplatformwarning.\n",
      "  InsecurePlatformWarning\n"
     ]
    },
    {
     "name": "stdout",
     "output_type": "stream",
     "text": [
      "18 of 24\n"
     ]
    },
    {
     "name": "stderr",
     "output_type": "stream",
     "text": [
      "/Users/anouchkalettre/Library/Enthought/Canopy_32bit/User/lib/python2.7/site-packages/requests/packages/urllib3/util/ssl_.py:79: InsecurePlatformWarning: A true SSLContext object is not available. This prevents urllib3 from configuring SSL appropriately and may cause certain SSL connections to fail. For more information, see https://urllib3.readthedocs.org/en/latest/security.html#insecureplatformwarning.\n",
      "  InsecurePlatformWarning\n"
     ]
    },
    {
     "name": "stdout",
     "output_type": "stream",
     "text": [
      "19 of 24\n"
     ]
    },
    {
     "name": "stderr",
     "output_type": "stream",
     "text": [
      "/Users/anouchkalettre/Library/Enthought/Canopy_32bit/User/lib/python2.7/site-packages/requests/packages/urllib3/util/ssl_.py:79: InsecurePlatformWarning: A true SSLContext object is not available. This prevents urllib3 from configuring SSL appropriately and may cause certain SSL connections to fail. For more information, see https://urllib3.readthedocs.org/en/latest/security.html#insecureplatformwarning.\n",
      "  InsecurePlatformWarning\n"
     ]
    },
    {
     "name": "stdout",
     "output_type": "stream",
     "text": [
      "20 of 24\n"
     ]
    },
    {
     "name": "stderr",
     "output_type": "stream",
     "text": [
      "/Users/anouchkalettre/Library/Enthought/Canopy_32bit/User/lib/python2.7/site-packages/requests/packages/urllib3/util/ssl_.py:79: InsecurePlatformWarning: A true SSLContext object is not available. This prevents urllib3 from configuring SSL appropriately and may cause certain SSL connections to fail. For more information, see https://urllib3.readthedocs.org/en/latest/security.html#insecureplatformwarning.\n",
      "  InsecurePlatformWarning\n"
     ]
    },
    {
     "name": "stdout",
     "output_type": "stream",
     "text": [
      "21 of 24\n"
     ]
    },
    {
     "name": "stderr",
     "output_type": "stream",
     "text": [
      "/Users/anouchkalettre/Library/Enthought/Canopy_32bit/User/lib/python2.7/site-packages/requests/packages/urllib3/util/ssl_.py:79: InsecurePlatformWarning: A true SSLContext object is not available. This prevents urllib3 from configuring SSL appropriately and may cause certain SSL connections to fail. For more information, see https://urllib3.readthedocs.org/en/latest/security.html#insecureplatformwarning.\n",
      "  InsecurePlatformWarning\n"
     ]
    },
    {
     "name": "stdout",
     "output_type": "stream",
     "text": [
      "22 of 24\n"
     ]
    },
    {
     "name": "stderr",
     "output_type": "stream",
     "text": [
      "/Users/anouchkalettre/Library/Enthought/Canopy_32bit/User/lib/python2.7/site-packages/requests/packages/urllib3/util/ssl_.py:79: InsecurePlatformWarning: A true SSLContext object is not available. This prevents urllib3 from configuring SSL appropriately and may cause certain SSL connections to fail. For more information, see https://urllib3.readthedocs.org/en/latest/security.html#insecureplatformwarning.\n",
      "  InsecurePlatformWarning\n"
     ]
    },
    {
     "name": "stdout",
     "output_type": "stream",
     "text": [
      "23 of 24\n"
     ]
    },
    {
     "name": "stderr",
     "output_type": "stream",
     "text": [
      "/Users/anouchkalettre/Library/Enthought/Canopy_32bit/User/lib/python2.7/site-packages/requests/packages/urllib3/util/ssl_.py:79: InsecurePlatformWarning: A true SSLContext object is not available. This prevents urllib3 from configuring SSL appropriately and may cause certain SSL connections to fail. For more information, see https://urllib3.readthedocs.org/en/latest/security.html#insecureplatformwarning.\n",
      "  InsecurePlatformWarning\n"
     ]
    },
    {
     "name": "stdout",
     "output_type": "stream",
     "text": [
      "24 of 24\n"
     ]
    }
   ],
   "source": [
    "# example get request: if u have just this in the browser it works\n",
    "# https://www.eventbriteapi.com/v3/users/me/HWAHYIYGUC4XIK2NR334\n",
    "\n",
    "def get_events(page): #  funct(argument) : must pass in the page number\n",
    "    token = \"HWAHYIYGUC4XIK2NR334\" ## put your Eventbrite Personal OAuth token in this string =) create one do not use mine please :-\n",
    "    # set params for API request. Docs:\n",
    "    data = {\n",
    "        \"expand\":\"category,ticket_classes,venue\",\n",
    "        \"venue.city\": \"london\",\n",
    "        \"start_date.range_start\": \"2016-05-25T10:00:00\",\n",
    "        \"start_date.range_end\": \"2016-05-28T23:00:00\",\n",
    "        \"sort_by\":\"date\",\n",
    "        \"page\": page , # request page from API\n",
    "    }\n",
    "        \n",
    "    response = requests.get(  #make an http request (insteaf of get =put,post,delete) \n",
    "        \"https://www.eventbriteapi.com/v3/events/search/\", #URL\n",
    "        headers = {  # headers = metadata (ex :cooky)      #header (=object) = KEY + VALUE\n",
    "            \"Authorization\": \"Bearer \"+token,             # \"Bearer\" is specific to eventbrite API\n",
    "        },      \n",
    "        params=data,  # question marks = all the infos at the end of the url (everything foldng up into a string)\n",
    "        verify = True,  # Verify SSL certificate (because our url statrs with htpps = secure url)\n",
    "    )\n",
    " \n",
    "    return response.json()\n",
    "\n",
    "\n",
    "events = [] #create empty array of events\n",
    "last = False #are we on the last page? \n",
    "page = 1     #current page number\n",
    "\n",
    "while(not last): #while not on last page\n",
    "    \n",
    "    r = get_events(page)  #get this page of events\n",
    "    print str(page) + \" of \" + str(r['pagination']['page_count'])\n",
    "    events = events + r['events']\n",
    "    last = r['pagination']['page_count'] == page\n",
    "    page = page + 1\n",
    "    \n",
    "\u001c"
   ]
  },
  {
   "cell_type": "code",
   "execution_count": 3,
   "metadata": {
    "collapsed": false
   },
   "outputs": [
    {
     "data": {
      "text/plain": [
       "1200"
      ]
     },
     "execution_count": 3,
     "metadata": {},
     "output_type": "execute_result"
    }
   ],
   "source": [
    "len(events)"
   ]
  },
  {
   "cell_type": "code",
   "execution_count": 4,
   "metadata": {
    "collapsed": false
   },
   "outputs": [],
   "source": [
    "from pandas.io.json import json_normalize"
   ]
  },
  {
   "cell_type": "code",
   "execution_count": 5,
   "metadata": {
    "collapsed": false
   },
   "outputs": [],
   "source": [
    "test = json_normalize(events)\n",
    "#sorted(set(test))\n",
    "#test"
   ]
  },
  {
   "cell_type": "code",
   "execution_count": 6,
   "metadata": {
    "collapsed": false
   },
   "outputs": [
    {
     "data": {
      "text/plain": [
       "0                            NaN\n",
       "1             Family & Education\n",
       "2                            NaN\n",
       "3            Community & Culture\n",
       "4     Hobbies & Special Interest\n",
       "5               Travel & Outdoor\n",
       "6               Fashion & Beauty\n",
       "7        Business & Professional\n",
       "8        Business & Professional\n",
       "9        Business & Professional\n",
       "10              Travel & Outdoor\n",
       "11       Business & Professional\n",
       "12                         Other\n",
       "13                  Food & Drink\n",
       "14              Fashion & Beauty\n",
       "...\n",
       "1185                          Music\n",
       "1186                          Other\n",
       "1187                            NaN\n",
       "1188                          Music\n",
       "1189                          Music\n",
       "1190                          Music\n",
       "1191                          Music\n",
       "1192                            NaN\n",
       "1193                          Music\n",
       "1194                          Music\n",
       "1195                          Music\n",
       "1196                          Music\n",
       "1197                          Music\n",
       "1198                          Music\n",
       "1199    Film, Media & Entertainment\n",
       "Name: category.name, Length: 1200, dtype: object"
      ]
     },
     "execution_count": 6,
     "metadata": {},
     "output_type": "execute_result"
    }
   ],
   "source": [
    "test[\"category.name\"]"
   ]
  },
  {
   "cell_type": "code",
   "execution_count": 7,
   "metadata": {
    "collapsed": false
   },
   "outputs": [],
   "source": [
    "import math \n",
    "#create a list of dictionaries, one dict for each event\n",
    "filtered_events = []\n",
    "\n",
    "for i, event in test.iterrows(): # loop over the full data frame\n",
    "    # save just the fields that we are interested in\n",
    "    \n",
    "    cat_name = event['category.name']\n",
    "    if cat_name == \"Film, Media & Entertainment\" or cat_name == \"Performing & Visual Arts\" or cat_name == \"Community & Culture\" or cat_name == \"Music\" :\n",
    "        cat_name = \"Culture & Art\"\n",
    "        \n",
    "    if cat_name == \"Religion & Spirituality\" or cat_name == \"Family & Education\" or cat_name == \"Science & Technology\" or cat_name == \"Government & Politics\" or cat_name == \"Business & Professional\": \n",
    "            cat_name = \"Business & Education\"\n",
    "    \n",
    "    if cat_name == \"Seasonal & Holiday\" or cat_name == \"Sports & Fitness\" or cat_name == \"Travel & Outdoor\" or cat_name ==\"Auto, Boat & Air\": \n",
    "        cat_name = \"Sport & Travel\"\n",
    "            \n",
    "    if cat_name == \"Fashion & Beauty\" or cat_name == \"Health & Wellness\" : cat_name = \"Fashion & Health\" \n",
    "    \n",
    "    if cat_name == \"Food & Drink\" : cat_name = \"Food & Drink\" \n",
    "        \n",
    "    if cat_name == \"Home & Lifestyle\" or cat_name == \"Hobbies & Special Interest\" or cat_name == \"Charity & Causes\" or cat_name == \"Other\":\n",
    "        cat_name = \"Others\"\n",
    "    prices = []\n",
    "    any_donation = False\n",
    "    availability = []\n",
    "    \n",
    "    for ticket in event['ticket_classes']:\n",
    "        if 'on_sale_status' in ticket and (ticket['on_sale_status'] == 'SOLD_OUT' or ticket['on_sale_status'] == 'UNAVAILABLE'):\n",
    "            availability.append(False)\n",
    "        else:\n",
    "            availability.append(True)\n",
    "            \n",
    "            if ticket['free'] or ticket['donation']:\n",
    "                prices.append(0)\n",
    "            else:\n",
    "                prices.append(ticket['cost']['value'])     \n",
    "            if ticket['donation']:\n",
    "                any_donation = True   \n",
    "            \n",
    "    #if no tickets display the prices as none        \n",
    "    if len(prices) > 0:\n",
    "        min_price = min(prices)\n",
    "        max_price = max(prices)\n",
    "    else:\n",
    "        min_price = None\n",
    "        max_price = None  \n",
    "            \n",
    "            \n",
    "    e = { \n",
    "        \"category\": cat_name ,\n",
    "        \"name\": event['name.text'],\n",
    "        \"venue\" : event['venue.name'],\n",
    "        \"start\":event['start.utc'],\n",
    "        \"end\" :event['end.utc'],\n",
    "        \"postcode\" : event['venue.address.postal_code'],\n",
    "        \"Adress\" : event['venue.address.address_1'],\n",
    "        \"latitutde\":event['venue.address.latitude'],\n",
    "        \"longitude\":event['venue.address.longitude'],\n",
    "        \"min_price\": min_price,\n",
    "        \"max_price\": max_price,\n",
    "        \"availability\": any(availability),\n",
    "        \"donation\": any_donation,\n",
    "        } \n",
    "    \n",
    "    # append to output\n",
    "    filtered_events.append(e)\n",
    "    # info about all events : \n",
    "    # if event['ticket_classes'] :\n",
    "           \n",
    "    # to get info about just the first event donation :\n",
    "    #if len(event['ticket_classes']) > 0 and event['ticket_classes'][0]['donation']:\n",
    "       # print e\n",
    "        #break allows to see the result for the first event \n",
    "       # break #stop looping use for loops test\n",
    "    \n",
    "#filtered_events"
   ]
  },
  {
   "cell_type": "code",
   "execution_count": 8,
   "metadata": {
    "collapsed": false
   },
   "outputs": [
    {
     "data": {
      "text/plain": [
       "Adress           object\n",
       "availability       bool\n",
       "category         object\n",
       "donation           bool\n",
       "end              object\n",
       "latitutde       float64\n",
       "longitude       float64\n",
       "max_price       float64\n",
       "min_price       float64\n",
       "name             object\n",
       "postcode         object\n",
       "start            object\n",
       "venue            object\n",
       "dtype: object"
      ]
     },
     "execution_count": 8,
     "metadata": {},
     "output_type": "execute_result"
    }
   ],
   "source": [
    "final_set = json_normalize(filtered_events)\n",
    "#final_set\n",
    "final_set.dtypes"
   ]
  },
  {
   "cell_type": "code",
   "execution_count": 9,
   "metadata": {
    "collapsed": false,
    "scrolled": true
   },
   "outputs": [
    {
     "data": {
      "text/html": [
       "<div style=\"max-height:1000px;max-width:1500px;overflow:auto;\">\n",
       "<table border=\"1\" class=\"dataframe\">\n",
       "  <thead>\n",
       "    <tr style=\"text-align: right;\">\n",
       "      <th></th>\n",
       "      <th>availability</th>\n",
       "      <th>donation</th>\n",
       "      <th>latitutde</th>\n",
       "      <th>longitude</th>\n",
       "      <th>max_price</th>\n",
       "      <th>min_price</th>\n",
       "    </tr>\n",
       "  </thead>\n",
       "  <tbody>\n",
       "    <tr>\n",
       "      <th>count</th>\n",
       "      <td>      1200</td>\n",
       "      <td>      1200</td>\n",
       "      <td> 1200.000000</td>\n",
       "      <td> 1200.000000</td>\n",
       "      <td>   1125.000000</td>\n",
       "      <td>   1125.000000</td>\n",
       "    </tr>\n",
       "    <tr>\n",
       "      <th>mean</th>\n",
       "      <td>    0.9375</td>\n",
       "      <td>      0.02</td>\n",
       "      <td>   51.068218</td>\n",
       "      <td>   -2.572966</td>\n",
       "      <td>   4498.736000</td>\n",
       "      <td>   3252.579556</td>\n",
       "    </tr>\n",
       "    <tr>\n",
       "      <th>std</th>\n",
       "      <td> 0.2421624</td>\n",
       "      <td> 0.1400584</td>\n",
       "      <td>    3.359525</td>\n",
       "      <td>   14.063214</td>\n",
       "      <td>  17906.589528</td>\n",
       "      <td>  14794.204352</td>\n",
       "    </tr>\n",
       "    <tr>\n",
       "      <th>min</th>\n",
       "      <td>     False</td>\n",
       "      <td>     False</td>\n",
       "      <td>    0.000000</td>\n",
       "      <td> -119.417932</td>\n",
       "      <td>      0.000000</td>\n",
       "      <td>      0.000000</td>\n",
       "    </tr>\n",
       "    <tr>\n",
       "      <th>25%</th>\n",
       "      <td>         1</td>\n",
       "      <td>         0</td>\n",
       "      <td>   51.500233</td>\n",
       "      <td>   -0.142205</td>\n",
       "      <td>      0.000000</td>\n",
       "      <td>      0.000000</td>\n",
       "    </tr>\n",
       "    <tr>\n",
       "      <th>50%</th>\n",
       "      <td>         1</td>\n",
       "      <td>         0</td>\n",
       "      <td>   51.514616</td>\n",
       "      <td>   -0.116630</td>\n",
       "      <td>    500.000000</td>\n",
       "      <td>      0.000000</td>\n",
       "    </tr>\n",
       "    <tr>\n",
       "      <th>75%</th>\n",
       "      <td>         1</td>\n",
       "      <td>         0</td>\n",
       "      <td>   51.524637</td>\n",
       "      <td>   -0.081643</td>\n",
       "      <td>   2000.000000</td>\n",
       "      <td>   1309.000000</td>\n",
       "    </tr>\n",
       "    <tr>\n",
       "      <th>max</th>\n",
       "      <td>      True</td>\n",
       "      <td>      True</td>\n",
       "      <td>   52.355518</td>\n",
       "      <td>    1.128684</td>\n",
       "      <td> 245000.000000</td>\n",
       "      <td> 245000.000000</td>\n",
       "    </tr>\n",
       "  </tbody>\n",
       "</table>\n",
       "</div>"
      ],
      "text/plain": [
       "      availability   donation    latitutde    longitude      max_price  \\\n",
       "count         1200       1200  1200.000000  1200.000000    1125.000000   \n",
       "mean        0.9375       0.02    51.068218    -2.572966    4498.736000   \n",
       "std      0.2421624  0.1400584     3.359525    14.063214   17906.589528   \n",
       "min          False      False     0.000000  -119.417932       0.000000   \n",
       "25%              1          0    51.500233    -0.142205       0.000000   \n",
       "50%              1          0    51.514616    -0.116630     500.000000   \n",
       "75%              1          0    51.524637    -0.081643    2000.000000   \n",
       "max           True       True    52.355518     1.128684  245000.000000   \n",
       "\n",
       "           min_price  \n",
       "count    1125.000000  \n",
       "mean     3252.579556  \n",
       "std     14794.204352  \n",
       "min         0.000000  \n",
       "25%         0.000000  \n",
       "50%         0.000000  \n",
       "75%      1309.000000  \n",
       "max    245000.000000  "
      ]
     },
     "execution_count": 9,
     "metadata": {},
     "output_type": "execute_result"
    }
   ],
   "source": [
    "df=pd.DataFrame(final_set)\n",
    "df.head(15)\n",
    "#drop Nan Values in our dataframe\n",
    "df.describe()\n"
   ]
  },
  {
   "cell_type": "code",
   "execution_count": 10,
   "metadata": {
    "collapsed": false
   },
   "outputs": [
    {
     "data": {
      "text/plain": [
       "1059"
      ]
     },
     "execution_count": 10,
     "metadata": {},
     "output_type": "execute_result"
    }
   ],
   "source": [
    "new_df=df.dropna(axis=0, how='any', thresh=None, subset=[\"category\"], inplace=False)\n",
    "len(new_df)\n"
   ]
  },
  {
   "cell_type": "code",
   "execution_count": 21,
   "metadata": {
    "collapsed": false
   },
   "outputs": [
    {
     "data": {
      "text/plain": [
       "['Business & Education',\n",
       " 'Culture & Art',\n",
       " 'Fashion & Health',\n",
       " 'Food & Drink',\n",
       " 'Others',\n",
       " 'Sport & Travel']"
      ]
     },
     "execution_count": 21,
     "metadata": {},
     "output_type": "execute_result"
    }
   ],
   "source": [
    "#new_df[\"category\"].describe()\n",
    "sorted(set(new_df[\"category\"]))"
   ]
  },
  {
   "cell_type": "code",
   "execution_count": 11,
   "metadata": {
    "collapsed": false
   },
   "outputs": [
    {
     "name": "stderr",
     "output_type": "stream",
     "text": [
      "/Users/anouchkalettre/Library/Enthought/Canopy_32bit/User/lib/python2.7/site-packages/ipykernel/__main__.py:2: SettingWithCopyWarning: \n",
      "A value is trying to be set on a copy of a slice from a DataFrame.\n",
      "Try using .loc[row_indexer,col_indexer] = value instead\n",
      "\n",
      "See the the caveats in the documentation: http://pandas.pydata.org/pandas-docs/stable/indexing.html#indexing-view-versus-copy\n",
      "  from ipykernel import kernelapp as app\n"
     ]
    },
    {
     "data": {
      "text/plain": [
       "Adress                    object\n",
       "availability                bool\n",
       "category                  object\n",
       "donation                    bool\n",
       "end                       object\n",
       "latitutde                float64\n",
       "longitude                float64\n",
       "max_price                float64\n",
       "min_price                float64\n",
       "name                      object\n",
       "postcode                  object\n",
       "start                     object\n",
       "venue                     object\n",
       "start_datetime    datetime64[ns]\n",
       "dtype: object"
      ]
     },
     "execution_count": 11,
     "metadata": {},
     "output_type": "execute_result"
    }
   ],
   "source": [
    "#Add a column start at datetime format so one datetime is numeric\n",
    "new_df['start_datetime']= pd.to_datetime(new_df['start'])\n",
    "#new_df['latitude']=str(new_df['latitutde'])\n",
    "#new_df['longitudes']=str(new_df['longitude'])\n",
    "new_df.dtypes"
   ]
  },
  {
   "cell_type": "markdown",
   "metadata": {},
   "source": [
    "#### DATATYPE SOLVING AND START COLUMN FORMAT TO ADD"
   ]
  },
  {
   "cell_type": "code",
   "execution_count": 12,
   "metadata": {
    "collapsed": false
   },
   "outputs": [],
   "source": [
    "##TO DO :\n",
    "\n",
    "#datetime issues : create new columns with\n",
    "# string : a pretty one \"Tuesday 9pm \"\n",
    "# integers : for the \n",
    "# unix time = integers number of seconds since 1st Jan 1970 for the slider (timeline)\n",
    "\n",
    "##Python format time\n",
    "## from time import strftime\n",
    "##strftime()"
   ]
  },
  {
   "cell_type": "code",
   "execution_count": 13,
   "metadata": {
    "collapsed": false
   },
   "outputs": [
    {
     "data": {
      "text/plain": [
       "51.484493    33\n",
       "51.507351    23\n",
       "51.503852    10\n",
       "51.498039     6\n",
       "51.520026     6\n",
       "51.541801     5\n",
       "51.515177     5\n",
       "51.520952     5\n",
       "51.587285     5\n",
       "51.513647     4\n",
       "51.505187     4\n",
       "51.483035     4\n",
       "51.573519     4\n",
       "51.474085     4\n",
       "51.468929     4\n",
       "...\n",
       "42.988549    1\n",
       "51.530679    1\n",
       "51.521706    1\n",
       "51.473948    1\n",
       "51.508215    1\n",
       "51.514107    1\n",
       "51.523537    1\n",
       "51.540498    1\n",
       "51.520241    1\n",
       "51.525444    1\n",
       "51.524635    1\n",
       "51.514870    1\n",
       "51.535713    1\n",
       "51.519600    1\n",
       "51.472256    1\n",
       "Length: 858, dtype: int64"
      ]
     },
     "execution_count": 13,
     "metadata": {},
     "output_type": "execute_result"
    }
   ],
   "source": [
    "#df.category.value_counts() \n",
    "#df.start_datetime.describe()\n",
    "new_df.latitutde.value_counts()"
   ]
  },
  {
   "cell_type": "code",
   "execution_count": 14,
   "metadata": {
    "collapsed": false
   },
   "outputs": [],
   "source": [
    "#from time import strftime\n",
    "#keep the other one 'start\" as a Python string/object \n",
    "#df['start']= strftime(str(df['start']))"
   ]
  },
  {
   "cell_type": "code",
   "execution_count": 15,
   "metadata": {
    "collapsed": false
   },
   "outputs": [],
   "source": [
    "#df.to_json('new_events_json.json')\n",
    "#http://casa-dv.github.io/future-bus-stops/"
   ]
  },
  {
   "cell_type": "code",
   "execution_count": 22,
   "metadata": {
    "collapsed": false
   },
   "outputs": [
    {
     "data": {
      "text/plain": [
       "175"
      ]
     },
     "execution_count": 22,
     "metadata": {},
     "output_type": "execute_result"
    }
   ],
   "source": [
    "#rewrite the file in Python (or use JQ) as a GEOjson format to be read in leaflet\n",
    "\n",
    "short_geojson_events = []   #stok into an array\n",
    "#short_df = df[0:5]   #\n",
    "\n",
    "import math\n",
    "\n",
    "for i, row in new_df.iterrows(): #for each event in my dataframe\n",
    "#for i, row in short_df.iterrows(): #for each event in my short dataframe df[0:5] \n",
    "        \n",
    "     if i >= 200:    #break in my df for loop\n",
    "        break\n",
    "        \n",
    "     min_price=0 #set it to 0 \n",
    "     if not math.isnan(new_df.min_price[i] ): #if not Nan Set it to number\n",
    "            min_price = new_df.min_price[i]\n",
    "     \n",
    "     max_price=0 #set it to 0 \n",
    "     if not math.isnan(new_df.max_price[i] ): #if not Nan Set it to number\n",
    "            max_price = new_df.max_price[i]\n",
    "     \n",
    "        \n",
    "     o = { # create a dictionary (geojson model)\n",
    "        \"type\": \"Feature\",\n",
    "        \"geometry\": {\"type\": \"Point\", \"coordinates\": [(row.longitude),(new_df.latitutde[i])]}, # TRY 1 : with array of floats for the coordinates\n",
    "        \"properties\": {\"start_datetime\": str(new_df.start_datetime[i]),\"category\": new_df.category[i], \"name\": new_df.name[i], \"venue\" : new_df.venue[i], \"start\": new_df.start[i], \"end\":new_df.end[i], \"postcode\":new_df.postcode[i],\"Adress\": new_df.Adress[i], \"min_price\": (min_price), \"max_price\": (max_price), \"availability\": str(new_df.availability[i]), \"donation\": str(new_df.donation[i]) }\n",
    "        }\n",
    "     \n",
    "     short_geojson_events.append(o)\n",
    "\n",
    "\n",
    "\n",
    "with open('new_test.json', 'w') as out_file: # open the file with this name for 'w' writing ('r' = reading), and set the out_file as a file handle\n",
    "     #http://devdocs.io/python~3.5/library/json#json.dumps #json package and then dumps turn the dict or array into a json encoding string\n",
    "    s = json.dumps(short_geojson_events, indent=2) #indent = If indent is a non-negative integer or string, then JSON array elements and object members will be pretty-printed with that indent level.\n",
    "    out_file.write(s)       # with a file handle you can call write and write strings\n",
    "    \n",
    "len(short_geojson_events)\n",
    "#s"
   ]
  },
  {
   "cell_type": "code",
   "execution_count": 17,
   "metadata": {
    "collapsed": false
   },
   "outputs": [
    {
     "ename": "SyntaxError",
     "evalue": "invalid syntax (<ipython-input-17-843d2cc3b0bc>, line 4)",
     "output_type": "error",
     "traceback": [
      "\u001b[0;36m  File \u001b[0;32m\"<ipython-input-17-843d2cc3b0bc>\"\u001b[0;36m, line \u001b[0;32m4\u001b[0m\n\u001b[0;31m    strat and an end : event appear with start, disappear with end time\u001b[0m\n\u001b[0m                   ^\u001b[0m\n\u001b[0;31mSyntaxError\u001b[0m\u001b[0;31m:\u001b[0m invalid syntax\n"
     ]
    }
   ],
   "source": [
    "#timeline \n",
    "#unixtime : \n",
    "\n",
    "strat and an end : event appear with start, disappear with end time\n",
    "    \n",
    "    #tom : at a time show every events whose start date is earlier than  that time \n",
    "     and end date is after that time\n",
    "    #start with the time that the pointer is pointing to and then check that condition over every events\n",
    "    \n",
    "    \n",
    "    # \"2016-05-20T09:00:00Z\" to \"2016-05-20T16:00:00Z\"\n",
    "    \n",
    "    \n",
    "    "
   ]
  },
  {
   "cell_type": "code",
   "execution_count": null,
   "metadata": {
    "collapsed": true
   },
   "outputs": [],
   "source": []
  }
 ],
 "metadata": {
  "kernelspec": {
   "display_name": "Python 2",
   "language": "python",
   "name": "python2"
  },
  "language_info": {
   "codemirror_mode": {
    "name": "ipython",
    "version": 2
   },
   "file_extension": ".py",
   "mimetype": "text/x-python",
   "name": "python",
   "nbconvert_exporter": "python",
   "pygments_lexer": "ipython2",
   "version": "2.7.6"
  }
 },
 "nbformat": 4,
 "nbformat_minor": 0
}
