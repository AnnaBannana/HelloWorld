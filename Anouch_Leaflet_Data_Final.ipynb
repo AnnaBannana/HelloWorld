{
 "cells": [
  {
   "cell_type": "markdown",
   "metadata": {},
   "source": [
    "I/ EVENTBRITE"
   ]
  },
  {
   "cell_type": "code",
   "execution_count": 53,
   "metadata": {
    "collapsed": false
   },
   "outputs": [],
   "source": [
    "import requests\n",
    "import json\n",
    "from json import *\n",
    "import pandas as pd\n",
    "from pandas.io.json import json_normalize\n",
    "from datetime import *\n",
    "from time import mktime"
   ]
  },
  {
   "cell_type": "code",
   "execution_count": 3,
   "metadata": {
    "collapsed": false
   },
   "outputs": [
    {
     "name": "stdout",
     "output_type": "stream",
     "text": [
      "2016-05-27 11:16:15.104790\n",
      "2016-05-27T11:16:15\n"
     ]
    }
   ],
   "source": [
    "NOW=datetime.now()\n",
    "NOW_iso=datetime.now().isoformat()[:-7]\n",
    "print NOW\n",
    "print NOW_iso"
   ]
  },
  {
   "cell_type": "code",
   "execution_count": 6,
   "metadata": {
    "collapsed": false
   },
   "outputs": [
    {
     "name": "stdout",
     "output_type": "stream",
     "text": [
      "2016-05-27T11:16:15\n",
      "2016-05-28T11:16:15\n",
      "2016-05-29T11:16:15\n",
      "2016-05-30T11:16:15\n",
      "2016-05-31T11:16:15\n",
      "2016-06-01T11:16:15\n",
      "2016-06-02T11:16:15\n"
     ]
    }
   ],
   "source": [
    "for x in range(0,7): # for goes through each day from now on until +7\n",
    "    b = NOW + timedelta(days=x)\n",
    "    time=datetime.strftime(b,\"%Y-%m-%dT%H:%M:%S\")\n",
    "    #print b\n",
    "    print time"
   ]
  },
  {
   "cell_type": "code",
   "execution_count": 5,
   "metadata": {
    "collapsed": false
   },
   "outputs": [
    {
     "name": "stderr",
     "output_type": "stream",
     "text": [
      "/Users/anouchkalettre/Library/Enthought/Canopy_32bit/User/lib/python2.7/site-packages/requests/packages/urllib3/util/ssl_.py:79: InsecurePlatformWarning: A true SSLContext object is not available. This prevents urllib3 from configuring SSL appropriately and may cause certain SSL connections to fail. For more information, see https://urllib3.readthedocs.org/en/latest/security.html#insecureplatformwarning.\n",
      "  InsecurePlatformWarning\n"
     ]
    },
    {
     "name": "stdout",
     "output_type": "stream",
     "text": [
      "1 of 24\n"
     ]
    },
    {
     "name": "stderr",
     "output_type": "stream",
     "text": [
      "/Users/anouchkalettre/Library/Enthought/Canopy_32bit/User/lib/python2.7/site-packages/requests/packages/urllib3/util/ssl_.py:79: InsecurePlatformWarning: A true SSLContext object is not available. This prevents urllib3 from configuring SSL appropriately and may cause certain SSL connections to fail. For more information, see https://urllib3.readthedocs.org/en/latest/security.html#insecureplatformwarning.\n",
      "  InsecurePlatformWarning\n"
     ]
    },
    {
     "name": "stdout",
     "output_type": "stream",
     "text": [
      "2 of 24\n"
     ]
    },
    {
     "name": "stderr",
     "output_type": "stream",
     "text": [
      "/Users/anouchkalettre/Library/Enthought/Canopy_32bit/User/lib/python2.7/site-packages/requests/packages/urllib3/util/ssl_.py:79: InsecurePlatformWarning: A true SSLContext object is not available. This prevents urllib3 from configuring SSL appropriately and may cause certain SSL connections to fail. For more information, see https://urllib3.readthedocs.org/en/latest/security.html#insecureplatformwarning.\n",
      "  InsecurePlatformWarning\n"
     ]
    },
    {
     "name": "stdout",
     "output_type": "stream",
     "text": [
      "3 of 24\n"
     ]
    },
    {
     "name": "stderr",
     "output_type": "stream",
     "text": [
      "/Users/anouchkalettre/Library/Enthought/Canopy_32bit/User/lib/python2.7/site-packages/requests/packages/urllib3/util/ssl_.py:79: InsecurePlatformWarning: A true SSLContext object is not available. This prevents urllib3 from configuring SSL appropriately and may cause certain SSL connections to fail. For more information, see https://urllib3.readthedocs.org/en/latest/security.html#insecureplatformwarning.\n",
      "  InsecurePlatformWarning\n"
     ]
    },
    {
     "name": "stdout",
     "output_type": "stream",
     "text": [
      "4 of 24\n"
     ]
    },
    {
     "name": "stderr",
     "output_type": "stream",
     "text": [
      "/Users/anouchkalettre/Library/Enthought/Canopy_32bit/User/lib/python2.7/site-packages/requests/packages/urllib3/util/ssl_.py:79: InsecurePlatformWarning: A true SSLContext object is not available. This prevents urllib3 from configuring SSL appropriately and may cause certain SSL connections to fail. For more information, see https://urllib3.readthedocs.org/en/latest/security.html#insecureplatformwarning.\n",
      "  InsecurePlatformWarning\n"
     ]
    },
    {
     "name": "stdout",
     "output_type": "stream",
     "text": [
      "5 of 24\n"
     ]
    },
    {
     "name": "stderr",
     "output_type": "stream",
     "text": [
      "/Users/anouchkalettre/Library/Enthought/Canopy_32bit/User/lib/python2.7/site-packages/requests/packages/urllib3/util/ssl_.py:79: InsecurePlatformWarning: A true SSLContext object is not available. This prevents urllib3 from configuring SSL appropriately and may cause certain SSL connections to fail. For more information, see https://urllib3.readthedocs.org/en/latest/security.html#insecureplatformwarning.\n",
      "  InsecurePlatformWarning\n"
     ]
    },
    {
     "name": "stdout",
     "output_type": "stream",
     "text": [
      "6 of 24\n"
     ]
    },
    {
     "name": "stderr",
     "output_type": "stream",
     "text": [
      "/Users/anouchkalettre/Library/Enthought/Canopy_32bit/User/lib/python2.7/site-packages/requests/packages/urllib3/util/ssl_.py:79: InsecurePlatformWarning: A true SSLContext object is not available. This prevents urllib3 from configuring SSL appropriately and may cause certain SSL connections to fail. For more information, see https://urllib3.readthedocs.org/en/latest/security.html#insecureplatformwarning.\n",
      "  InsecurePlatformWarning\n"
     ]
    },
    {
     "name": "stdout",
     "output_type": "stream",
     "text": [
      "7 of 24\n"
     ]
    },
    {
     "name": "stderr",
     "output_type": "stream",
     "text": [
      "/Users/anouchkalettre/Library/Enthought/Canopy_32bit/User/lib/python2.7/site-packages/requests/packages/urllib3/util/ssl_.py:79: InsecurePlatformWarning: A true SSLContext object is not available. This prevents urllib3 from configuring SSL appropriately and may cause certain SSL connections to fail. For more information, see https://urllib3.readthedocs.org/en/latest/security.html#insecureplatformwarning.\n",
      "  InsecurePlatformWarning\n"
     ]
    },
    {
     "name": "stdout",
     "output_type": "stream",
     "text": [
      "8 of 24\n"
     ]
    },
    {
     "name": "stderr",
     "output_type": "stream",
     "text": [
      "/Users/anouchkalettre/Library/Enthought/Canopy_32bit/User/lib/python2.7/site-packages/requests/packages/urllib3/util/ssl_.py:79: InsecurePlatformWarning: A true SSLContext object is not available. This prevents urllib3 from configuring SSL appropriately and may cause certain SSL connections to fail. For more information, see https://urllib3.readthedocs.org/en/latest/security.html#insecureplatformwarning.\n",
      "  InsecurePlatformWarning\n"
     ]
    },
    {
     "name": "stdout",
     "output_type": "stream",
     "text": [
      "9 of 24\n"
     ]
    },
    {
     "name": "stderr",
     "output_type": "stream",
     "text": [
      "/Users/anouchkalettre/Library/Enthought/Canopy_32bit/User/lib/python2.7/site-packages/requests/packages/urllib3/util/ssl_.py:79: InsecurePlatformWarning: A true SSLContext object is not available. This prevents urllib3 from configuring SSL appropriately and may cause certain SSL connections to fail. For more information, see https://urllib3.readthedocs.org/en/latest/security.html#insecureplatformwarning.\n",
      "  InsecurePlatformWarning\n"
     ]
    },
    {
     "name": "stdout",
     "output_type": "stream",
     "text": [
      "10 of 24\n"
     ]
    },
    {
     "name": "stderr",
     "output_type": "stream",
     "text": [
      "/Users/anouchkalettre/Library/Enthought/Canopy_32bit/User/lib/python2.7/site-packages/requests/packages/urllib3/util/ssl_.py:79: InsecurePlatformWarning: A true SSLContext object is not available. This prevents urllib3 from configuring SSL appropriately and may cause certain SSL connections to fail. For more information, see https://urllib3.readthedocs.org/en/latest/security.html#insecureplatformwarning.\n",
      "  InsecurePlatformWarning\n"
     ]
    },
    {
     "name": "stdout",
     "output_type": "stream",
     "text": [
      "11 of 24\n"
     ]
    },
    {
     "name": "stderr",
     "output_type": "stream",
     "text": [
      "/Users/anouchkalettre/Library/Enthought/Canopy_32bit/User/lib/python2.7/site-packages/requests/packages/urllib3/util/ssl_.py:79: InsecurePlatformWarning: A true SSLContext object is not available. This prevents urllib3 from configuring SSL appropriately and may cause certain SSL connections to fail. For more information, see https://urllib3.readthedocs.org/en/latest/security.html#insecureplatformwarning.\n",
      "  InsecurePlatformWarning\n"
     ]
    },
    {
     "name": "stdout",
     "output_type": "stream",
     "text": [
      "12 of 24\n"
     ]
    },
    {
     "name": "stderr",
     "output_type": "stream",
     "text": [
      "/Users/anouchkalettre/Library/Enthought/Canopy_32bit/User/lib/python2.7/site-packages/requests/packages/urllib3/util/ssl_.py:79: InsecurePlatformWarning: A true SSLContext object is not available. This prevents urllib3 from configuring SSL appropriately and may cause certain SSL connections to fail. For more information, see https://urllib3.readthedocs.org/en/latest/security.html#insecureplatformwarning.\n",
      "  InsecurePlatformWarning\n"
     ]
    },
    {
     "name": "stdout",
     "output_type": "stream",
     "text": [
      "13 of 24\n"
     ]
    },
    {
     "name": "stderr",
     "output_type": "stream",
     "text": [
      "/Users/anouchkalettre/Library/Enthought/Canopy_32bit/User/lib/python2.7/site-packages/requests/packages/urllib3/util/ssl_.py:79: InsecurePlatformWarning: A true SSLContext object is not available. This prevents urllib3 from configuring SSL appropriately and may cause certain SSL connections to fail. For more information, see https://urllib3.readthedocs.org/en/latest/security.html#insecureplatformwarning.\n",
      "  InsecurePlatformWarning\n"
     ]
    },
    {
     "name": "stdout",
     "output_type": "stream",
     "text": [
      "14 of 24\n"
     ]
    },
    {
     "name": "stderr",
     "output_type": "stream",
     "text": [
      "/Users/anouchkalettre/Library/Enthought/Canopy_32bit/User/lib/python2.7/site-packages/requests/packages/urllib3/util/ssl_.py:79: InsecurePlatformWarning: A true SSLContext object is not available. This prevents urllib3 from configuring SSL appropriately and may cause certain SSL connections to fail. For more information, see https://urllib3.readthedocs.org/en/latest/security.html#insecureplatformwarning.\n",
      "  InsecurePlatformWarning\n"
     ]
    },
    {
     "name": "stdout",
     "output_type": "stream",
     "text": [
      "15 of 24\n"
     ]
    },
    {
     "name": "stderr",
     "output_type": "stream",
     "text": [
      "/Users/anouchkalettre/Library/Enthought/Canopy_32bit/User/lib/python2.7/site-packages/requests/packages/urllib3/util/ssl_.py:79: InsecurePlatformWarning: A true SSLContext object is not available. This prevents urllib3 from configuring SSL appropriately and may cause certain SSL connections to fail. For more information, see https://urllib3.readthedocs.org/en/latest/security.html#insecureplatformwarning.\n",
      "  InsecurePlatformWarning\n"
     ]
    },
    {
     "name": "stdout",
     "output_type": "stream",
     "text": [
      "16 of 24\n"
     ]
    },
    {
     "name": "stderr",
     "output_type": "stream",
     "text": [
      "/Users/anouchkalettre/Library/Enthought/Canopy_32bit/User/lib/python2.7/site-packages/requests/packages/urllib3/util/ssl_.py:79: InsecurePlatformWarning: A true SSLContext object is not available. This prevents urllib3 from configuring SSL appropriately and may cause certain SSL connections to fail. For more information, see https://urllib3.readthedocs.org/en/latest/security.html#insecureplatformwarning.\n",
      "  InsecurePlatformWarning\n"
     ]
    },
    {
     "name": "stdout",
     "output_type": "stream",
     "text": [
      "17 of 24\n"
     ]
    },
    {
     "name": "stderr",
     "output_type": "stream",
     "text": [
      "/Users/anouchkalettre/Library/Enthought/Canopy_32bit/User/lib/python2.7/site-packages/requests/packages/urllib3/util/ssl_.py:79: InsecurePlatformWarning: A true SSLContext object is not available. This prevents urllib3 from configuring SSL appropriately and may cause certain SSL connections to fail. For more information, see https://urllib3.readthedocs.org/en/latest/security.html#insecureplatformwarning.\n",
      "  InsecurePlatformWarning\n"
     ]
    },
    {
     "name": "stdout",
     "output_type": "stream",
     "text": [
      "18 of 24\n"
     ]
    },
    {
     "name": "stderr",
     "output_type": "stream",
     "text": [
      "/Users/anouchkalettre/Library/Enthought/Canopy_32bit/User/lib/python2.7/site-packages/requests/packages/urllib3/util/ssl_.py:79: InsecurePlatformWarning: A true SSLContext object is not available. This prevents urllib3 from configuring SSL appropriately and may cause certain SSL connections to fail. For more information, see https://urllib3.readthedocs.org/en/latest/security.html#insecureplatformwarning.\n",
      "  InsecurePlatformWarning\n"
     ]
    },
    {
     "name": "stdout",
     "output_type": "stream",
     "text": [
      "19 of 24\n"
     ]
    },
    {
     "name": "stderr",
     "output_type": "stream",
     "text": [
      "/Users/anouchkalettre/Library/Enthought/Canopy_32bit/User/lib/python2.7/site-packages/requests/packages/urllib3/util/ssl_.py:79: InsecurePlatformWarning: A true SSLContext object is not available. This prevents urllib3 from configuring SSL appropriately and may cause certain SSL connections to fail. For more information, see https://urllib3.readthedocs.org/en/latest/security.html#insecureplatformwarning.\n",
      "  InsecurePlatformWarning\n"
     ]
    },
    {
     "name": "stdout",
     "output_type": "stream",
     "text": [
      "20 of 24\n"
     ]
    },
    {
     "name": "stderr",
     "output_type": "stream",
     "text": [
      "/Users/anouchkalettre/Library/Enthought/Canopy_32bit/User/lib/python2.7/site-packages/requests/packages/urllib3/util/ssl_.py:79: InsecurePlatformWarning: A true SSLContext object is not available. This prevents urllib3 from configuring SSL appropriately and may cause certain SSL connections to fail. For more information, see https://urllib3.readthedocs.org/en/latest/security.html#insecureplatformwarning.\n",
      "  InsecurePlatformWarning\n"
     ]
    },
    {
     "name": "stdout",
     "output_type": "stream",
     "text": [
      "21 of 24\n"
     ]
    },
    {
     "name": "stderr",
     "output_type": "stream",
     "text": [
      "/Users/anouchkalettre/Library/Enthought/Canopy_32bit/User/lib/python2.7/site-packages/requests/packages/urllib3/util/ssl_.py:79: InsecurePlatformWarning: A true SSLContext object is not available. This prevents urllib3 from configuring SSL appropriately and may cause certain SSL connections to fail. For more information, see https://urllib3.readthedocs.org/en/latest/security.html#insecureplatformwarning.\n",
      "  InsecurePlatformWarning\n"
     ]
    },
    {
     "name": "stdout",
     "output_type": "stream",
     "text": [
      "22 of 24\n"
     ]
    },
    {
     "name": "stderr",
     "output_type": "stream",
     "text": [
      "/Users/anouchkalettre/Library/Enthought/Canopy_32bit/User/lib/python2.7/site-packages/requests/packages/urllib3/util/ssl_.py:79: InsecurePlatformWarning: A true SSLContext object is not available. This prevents urllib3 from configuring SSL appropriately and may cause certain SSL connections to fail. For more information, see https://urllib3.readthedocs.org/en/latest/security.html#insecureplatformwarning.\n",
      "  InsecurePlatformWarning\n"
     ]
    },
    {
     "name": "stdout",
     "output_type": "stream",
     "text": [
      "23 of 24\n"
     ]
    },
    {
     "name": "stderr",
     "output_type": "stream",
     "text": [
      "/Users/anouchkalettre/Library/Enthought/Canopy_32bit/User/lib/python2.7/site-packages/requests/packages/urllib3/util/ssl_.py:79: InsecurePlatformWarning: A true SSLContext object is not available. This prevents urllib3 from configuring SSL appropriately and may cause certain SSL connections to fail. For more information, see https://urllib3.readthedocs.org/en/latest/security.html#insecureplatformwarning.\n",
      "  InsecurePlatformWarning\n"
     ]
    },
    {
     "name": "stdout",
     "output_type": "stream",
     "text": [
      "24 of 24\n"
     ]
    }
   ],
   "source": [
    "# example get request: if u have just this in the browser it works\n",
    "# https://www.eventbriteapi.com/v3/users/me/HWAHYIYGUC4XIK2NR334\n",
    "\n",
    "\n",
    "def get_events(page): #  funct(argument) : must pass in the page number\n",
    "    token = \"HWAHYIYGUC4XIK2NR334\" ## put your Eventbrite Personal OAuth token in this string =) create one do not use mine please :-\n",
    "    # set params for API request. Docs:\n",
    "    data = {\n",
    "        \"expand\":\"category,ticket_classes,venue\",\n",
    "        \"venue.city\": \"london\",\n",
    "        \"start_date.range_start\": str(NOW_iso),\n",
    "        \"start_date.range_end\": time,\n",
    "        \"sort_by\":\"date\",\n",
    "        \"page\": page , # request page from API\n",
    "    }\n",
    "        \n",
    "    response = requests.get(  #make an http request (insteaf of get =put,post,delete) \n",
    "        \"https://www.eventbriteapi.com/v3/events/search/\", #URL\n",
    "        headers = {  # headers = metadata (ex :cooky)      #header (=object) = KEY + VALUE\n",
    "            \"Authorization\": \"Bearer \"+token,             # \"Bearer\" is specific to eventbrite API\n",
    "        },      \n",
    "        params=data,  # question marks = all the infos at the end of the url (everything foldng up into a string)\n",
    "        verify = True,  # Verify SSL certificate (because our url statrs with htpps = secure url)\n",
    "    )\n",
    " \n",
    "    return response.json()\n",
    "\n",
    "\n",
    "events = [] #create empty array of events\n",
    "last = False #are we on the last page? \n",
    "page = 1     #current page number\n",
    "\n",
    "while(not last): #while not on last page\n",
    "    \n",
    "    r = get_events(page)  #get this page of events\n",
    "    print str(page) + \" of \" + str(r['pagination']['page_count'])\n",
    "    events = events + r['events']\n",
    "    last = r['pagination']['page_count'] == page\n",
    "    page = page + 1\n",
    "    \n",
    "\u001c"
   ]
  },
  {
   "cell_type": "code",
   "execution_count": 17,
   "metadata": {
    "collapsed": false
   },
   "outputs": [
    {
     "data": {
      "text/plain": [
       "1194"
      ]
     },
     "execution_count": 17,
     "metadata": {},
     "output_type": "execute_result"
    }
   ],
   "source": [
    "len(events)"
   ]
  },
  {
   "cell_type": "code",
   "execution_count": 18,
   "metadata": {
    "collapsed": false
   },
   "outputs": [],
   "source": [
    "from pandas.io.json import json_normalize"
   ]
  },
  {
   "cell_type": "code",
   "execution_count": 19,
   "metadata": {
    "collapsed": false
   },
   "outputs": [],
   "source": [
    "test = json_normalize(events)\n",
    "#sorted(set(test))\n",
    "#test"
   ]
  },
  {
   "cell_type": "code",
   "execution_count": 20,
   "metadata": {
    "collapsed": false
   },
   "outputs": [
    {
     "data": {
      "text/plain": [
       "0            Science & Technology\n",
       "1                    Food & Drink\n",
       "2         Business & Professional\n",
       "3             Community & Culture\n",
       "4     Film, Media & Entertainment\n",
       "5             Community & Culture\n",
       "6                    Food & Drink\n",
       "7             Community & Culture\n",
       "8        Performing & Visual Arts\n",
       "9                             NaN\n",
       "10                            NaN\n",
       "11                          Other\n",
       "12               Charity & Causes\n",
       "13        Religion & Spirituality\n",
       "14           Science & Technology\n",
       "...\n",
       "1179        Business & Professional\n",
       "1180        Business & Professional\n",
       "1181           Science & Technology\n",
       "1182    Film, Media & Entertainment\n",
       "1183                          Other\n",
       "1184            Community & Culture\n",
       "1185     Hobbies & Special Interest\n",
       "1186     Hobbies & Special Interest\n",
       "1187             Family & Education\n",
       "1188              Health & Wellness\n",
       "1189            Community & Culture\n",
       "1190               Travel & Outdoor\n",
       "1191                          Other\n",
       "1192                   Food & Drink\n",
       "1193                          Other\n",
       "Name: category.name, Length: 1194, dtype: object"
      ]
     },
     "execution_count": 20,
     "metadata": {},
     "output_type": "execute_result"
    }
   ],
   "source": [
    "test[\"category.name\"]"
   ]
  },
  {
   "cell_type": "code",
   "execution_count": 121,
   "metadata": {
    "collapsed": false
   },
   "outputs": [],
   "source": [
    "import math \n",
    "#create a list of dictionaries, one dict for each event\n",
    "filtered_events = []\n",
    "\n",
    "for i, event in test.iterrows(): # loop over the full data frame\n",
    "    # save just the fields that we are interested in\n",
    "    \n",
    "    cat_name = event['category.name']\n",
    "    if cat_name == \"Film, Media & Entertainment\" or cat_name == \"Performing & Visual Arts\" or cat_name == \"Community & Culture\" or cat_name == \"Music\" :\n",
    "        cat_name = \"Culture & Art\"\n",
    "        \n",
    "    if cat_name == \"Religion & Spirituality\" or cat_name == \"Family & Education\" or cat_name == \"Science & Technology\" or cat_name == \"Government & Politics\" or cat_name == \"Business & Professional\": \n",
    "            cat_name = \"Business & Education\"\n",
    "    \n",
    "    if cat_name == \"Seasonal & Holiday\" or cat_name == \"Sports & Fitness\" or cat_name == \"Travel & Outdoor\" or cat_name ==\"Auto, Boat & Air\": \n",
    "        cat_name = \"Sport & Travel\"\n",
    "            \n",
    "    if cat_name == \"Fashion & Beauty\" or cat_name == \"Health & Wellness\" : cat_name = \"Fashion & Health\" \n",
    "    \n",
    "    if cat_name == \"Food & Drink\" : cat_name = \"Food & Drink\" \n",
    "        \n",
    "    if cat_name == \"Home & Lifestyle\" or cat_name == \"Hobbies & Special Interest\" or cat_name == \"Charity & Causes\" or cat_name == \"Other\":\n",
    "        cat_name = \"Others\"\n",
    "    prices = []\n",
    "    any_donation = False\n",
    "    availability = []\n",
    "    \n",
    "    for ticket in event['ticket_classes']:\n",
    "        if 'on_sale_status' in ticket and (ticket['on_sale_status'] == 'SOLD_OUT' or ticket['on_sale_status'] == 'UNAVAILABLE'):\n",
    "            availability.append(False)\n",
    "        else:\n",
    "            availability.append(True)\n",
    "            \n",
    "            if ticket['free'] or ticket['donation']:\n",
    "                prices.append(0)\n",
    "            else:\n",
    "                prices.append(ticket['cost']['value'])     \n",
    "            if ticket['donation']:\n",
    "                any_donation = True   \n",
    "            \n",
    "    #if no tickets display the prices as none        \n",
    "    if len(prices) > 0:\n",
    "        min_price = min(prices)\n",
    "        max_price = max(prices)\n",
    "    else:\n",
    "        min_price = None\n",
    "        max_price = None  \n",
    "            \n",
    "            \n",
    "    e = { \n",
    "        \"category\": cat_name ,\n",
    "        \"name\": event['name.text'],\n",
    "        \"venue\" : event['venue.name'],\n",
    "        \"start\":event['start.utc'],\n",
    "        \"end\" :event['end.utc'],\n",
    "        \"postcode\" : event['venue.address.postal_code'],\n",
    "        \"Adress\" : event['venue.address.address_1'],\n",
    "        \"latitutde\":event['venue.address.latitude'],\n",
    "        \"longitude\":event['venue.address.longitude'],\n",
    "        \"min_price\": min_price,\n",
    "        \"max_price\": max_price,\n",
    "        \"availability\": any(availability),\n",
    "        \"donation\": any_donation,\n",
    "        } \n",
    "    \n",
    "    # append to output\n",
    "    filtered_events.append(e)\n",
    "    # info about all events : \n",
    "    # if event['ticket_classes'] :\n",
    "           \n",
    "    # to get info about just the first event donation :\n",
    "    #if len(event['ticket_classes']) > 0 and event['ticket_classes'][0]['donation']:\n",
    "       # print e\n",
    "        #break allows to see the result for the first event \n",
    "       # break #stop looping use for loops test\n",
    "    \n",
    "#filtered_events"
   ]
  },
  {
   "cell_type": "code",
   "execution_count": 122,
   "metadata": {
    "collapsed": false
   },
   "outputs": [
    {
     "data": {
      "text/plain": [
       "Adress           object\n",
       "availability       bool\n",
       "category         object\n",
       "donation           bool\n",
       "end              object\n",
       "latitutde       float64\n",
       "longitude       float64\n",
       "max_price       float64\n",
       "min_price       float64\n",
       "name             object\n",
       "postcode         object\n",
       "start            object\n",
       "venue            object\n",
       "dtype: object"
      ]
     },
     "execution_count": 122,
     "metadata": {},
     "output_type": "execute_result"
    }
   ],
   "source": [
    "final_set = json_normalize(filtered_events)\n",
    "#final_set\n",
    "final_set.dtypes"
   ]
  },
  {
   "cell_type": "code",
   "execution_count": 123,
   "metadata": {
    "collapsed": false,
    "scrolled": true
   },
   "outputs": [
    {
     "data": {
      "text/html": [
       "<div style=\"max-height:1000px;max-width:1500px;overflow:auto;\">\n",
       "<table border=\"1\" class=\"dataframe\">\n",
       "  <thead>\n",
       "    <tr style=\"text-align: right;\">\n",
       "      <th></th>\n",
       "      <th>availability</th>\n",
       "      <th>donation</th>\n",
       "      <th>latitutde</th>\n",
       "      <th>longitude</th>\n",
       "      <th>max_price</th>\n",
       "      <th>min_price</th>\n",
       "    </tr>\n",
       "  </thead>\n",
       "  <tbody>\n",
       "    <tr>\n",
       "      <th>count</th>\n",
       "      <td>      1194</td>\n",
       "      <td>       1194</td>\n",
       "      <td> 1194.000000</td>\n",
       "      <td> 1194.000000</td>\n",
       "      <td>   1104.000000</td>\n",
       "      <td>   1104.000000</td>\n",
       "    </tr>\n",
       "    <tr>\n",
       "      <th>mean</th>\n",
       "      <td> 0.9246231</td>\n",
       "      <td> 0.02345059</td>\n",
       "      <td>   50.927420</td>\n",
       "      <td>   -2.306726</td>\n",
       "      <td>   5483.137681</td>\n",
       "      <td>   4200.000906</td>\n",
       "    </tr>\n",
       "    <tr>\n",
       "      <th>std</th>\n",
       "      <td> 0.2641091</td>\n",
       "      <td>   0.151393</td>\n",
       "      <td>    4.447402</td>\n",
       "      <td>   13.242805</td>\n",
       "      <td>  21368.567712</td>\n",
       "      <td>  18356.076840</td>\n",
       "    </tr>\n",
       "    <tr>\n",
       "      <th>min</th>\n",
       "      <td>     False</td>\n",
       "      <td>      False</td>\n",
       "      <td>    0.000000</td>\n",
       "      <td>  -93.277489</td>\n",
       "      <td>      0.000000</td>\n",
       "      <td>      0.000000</td>\n",
       "    </tr>\n",
       "    <tr>\n",
       "      <th>25%</th>\n",
       "      <td>         1</td>\n",
       "      <td>          0</td>\n",
       "      <td>   51.498259</td>\n",
       "      <td>   -0.142324</td>\n",
       "      <td>      0.000000</td>\n",
       "      <td>      0.000000</td>\n",
       "    </tr>\n",
       "    <tr>\n",
       "      <th>50%</th>\n",
       "      <td>         1</td>\n",
       "      <td>          0</td>\n",
       "      <td>   51.513791</td>\n",
       "      <td>   -0.119455</td>\n",
       "      <td>    750.000000</td>\n",
       "      <td>    500.000000</td>\n",
       "    </tr>\n",
       "    <tr>\n",
       "      <th>75%</th>\n",
       "      <td>         1</td>\n",
       "      <td>          0</td>\n",
       "      <td>   51.525662</td>\n",
       "      <td>   -0.077299</td>\n",
       "      <td>   2000.000000</td>\n",
       "      <td>   1500.000000</td>\n",
       "    </tr>\n",
       "    <tr>\n",
       "      <th>max</th>\n",
       "      <td>      True</td>\n",
       "      <td>       True</td>\n",
       "      <td>   53.758419</td>\n",
       "      <td>    1.128684</td>\n",
       "      <td> 295000.000000</td>\n",
       "      <td> 295000.000000</td>\n",
       "    </tr>\n",
       "  </tbody>\n",
       "</table>\n",
       "</div>"
      ],
      "text/plain": [
       "      availability    donation    latitutde    longitude      max_price  \\\n",
       "count         1194        1194  1194.000000  1194.000000    1104.000000   \n",
       "mean     0.9246231  0.02345059    50.927420    -2.306726    5483.137681   \n",
       "std      0.2641091    0.151393     4.447402    13.242805   21368.567712   \n",
       "min          False       False     0.000000   -93.277489       0.000000   \n",
       "25%              1           0    51.498259    -0.142324       0.000000   \n",
       "50%              1           0    51.513791    -0.119455     750.000000   \n",
       "75%              1           0    51.525662    -0.077299    2000.000000   \n",
       "max           True        True    53.758419     1.128684  295000.000000   \n",
       "\n",
       "           min_price  \n",
       "count    1104.000000  \n",
       "mean     4200.000906  \n",
       "std     18356.076840  \n",
       "min         0.000000  \n",
       "25%         0.000000  \n",
       "50%       500.000000  \n",
       "75%      1500.000000  \n",
       "max    295000.000000  "
      ]
     },
     "execution_count": 123,
     "metadata": {},
     "output_type": "execute_result"
    }
   ],
   "source": [
    "df=pd.DataFrame(final_set)\n",
    "df.head(15)\n",
    "df.describe()"
   ]
  },
  {
   "cell_type": "code",
   "execution_count": 124,
   "metadata": {
    "collapsed": false
   },
   "outputs": [
    {
     "data": {
      "text/plain": [
       "1084"
      ]
     },
     "execution_count": 124,
     "metadata": {},
     "output_type": "execute_result"
    }
   ],
   "source": [
    "#drop Nan Values in our dataframe for missing categories\n",
    "new_df=df.dropna(axis=0, how='any', thresh=None, subset=[\"category\"], inplace=False)\n",
    "len(new_df)\n"
   ]
  },
  {
   "cell_type": "code",
   "execution_count": 139,
   "metadata": {
    "collapsed": false
   },
   "outputs": [
    {
     "data": {
      "text/plain": [
       "['Business & Education',\n",
       " 'Culture & Art',\n",
       " 'Fashion & Health',\n",
       " 'Food & Drink',\n",
       " 'Others',\n",
       " 'Sport & Travel']"
      ]
     },
     "execution_count": 139,
     "metadata": {},
     "output_type": "execute_result"
    }
   ],
   "source": [
    "#new_df[\"category\"].describe()\n",
    "sorted(set(new_df[\"category\"]))"
   ]
  },
  {
   "cell_type": "code",
   "execution_count": 126,
   "metadata": {
    "collapsed": false
   },
   "outputs": [
    {
     "data": {
      "text/plain": [
       "0     2016-05-27T11:00:00Z\n",
       "1     2016-05-27T11:00:00Z\n",
       "2     2016-05-27T11:00:00Z\n",
       "3     2016-05-27T11:00:00Z\n",
       "4     2016-05-27T11:00:00Z\n",
       "5     2016-05-27T11:00:00Z\n",
       "6     2016-05-27T11:00:00Z\n",
       "7     2016-05-27T11:00:00Z\n",
       "8     2016-05-27T11:00:00Z\n",
       "11    2016-05-27T11:30:00Z\n",
       "12    2016-05-27T11:30:00Z\n",
       "13    2016-05-27T11:40:00Z\n",
       "14    2016-05-27T12:00:00Z\n",
       "15    2016-05-27T12:00:00Z\n",
       "16    2016-05-27T12:00:00Z\n",
       "...\n",
       "1179    2016-06-02T09:30:00Z\n",
       "1180    2016-06-02T09:30:00Z\n",
       "1181    2016-06-02T09:30:00Z\n",
       "1182    2016-06-02T10:00:00Z\n",
       "1183    2016-06-02T10:00:00Z\n",
       "1184    2016-06-02T10:00:00Z\n",
       "1185    2016-06-02T10:00:00Z\n",
       "1186    2016-06-02T10:00:00Z\n",
       "1187    2016-06-02T10:00:00Z\n",
       "1188    2016-06-02T10:00:00Z\n",
       "1189    2016-06-02T10:00:00Z\n",
       "1190    2016-06-02T10:00:00Z\n",
       "1191    2016-06-02T10:00:00Z\n",
       "1192    2016-06-02T10:00:00Z\n",
       "1193    2016-06-02T10:00:00Z\n",
       "Name: start, Length: 1084, dtype: object"
      ]
     },
     "execution_count": 126,
     "metadata": {},
     "output_type": "execute_result"
    }
   ],
   "source": [
    "new_df['start']"
   ]
  },
  {
   "cell_type": "code",
   "execution_count": 144,
   "metadata": {
    "collapsed": false
   },
   "outputs": [
    {
     "name": "stderr",
     "output_type": "stream",
     "text": [
      "/Users/anouchkalettre/Library/Enthought/Canopy_32bit/User/lib/python2.7/site-packages/ipykernel/__main__.py:2: SettingWithCopyWarning: \n",
      "A value is trying to be set on a copy of a slice from a DataFrame.\n",
      "Try using .loc[row_indexer,col_indexer] = value instead\n",
      "\n",
      "See the the caveats in the documentation: http://pandas.pydata.org/pandas-docs/stable/indexing.html#indexing-view-versus-copy\n",
      "  from ipykernel import kernelapp as app\n",
      "/Users/anouchkalettre/Library/Enthought/Canopy_32bit/User/lib/python2.7/site-packages/ipykernel/__main__.py:3: SettingWithCopyWarning: \n",
      "A value is trying to be set on a copy of a slice from a DataFrame.\n",
      "Try using .loc[row_indexer,col_indexer] = value instead\n",
      "\n",
      "See the the caveats in the documentation: http://pandas.pydata.org/pandas-docs/stable/indexing.html#indexing-view-versus-copy\n",
      "  app.launch_new_instance()\n",
      "/Users/anouchkalettre/Library/Enthought/Canopy_32bit/User/lib/python2.7/site-packages/ipykernel/__main__.py:4: SettingWithCopyWarning: \n",
      "A value is trying to be set on a copy of a slice from a DataFrame.\n",
      "Try using .loc[row_indexer,col_indexer] = value instead\n",
      "\n",
      "See the the caveats in the documentation: http://pandas.pydata.org/pandas-docs/stable/indexing.html#indexing-view-versus-copy\n",
      "/Users/anouchkalettre/Library/Enthought/Canopy_32bit/User/lib/python2.7/site-packages/ipykernel/__main__.py:5: SettingWithCopyWarning: \n",
      "A value is trying to be set on a copy of a slice from a DataFrame.\n",
      "Try using .loc[row_indexer,col_indexer] = value instead\n",
      "\n",
      "See the the caveats in the documentation: http://pandas.pydata.org/pandas-docs/stable/indexing.html#indexing-view-versus-copy\n"
     ]
    },
    {
     "data": {
      "text/plain": [
       "0     2016-05-27T11:00:00\n",
       "1     2016-05-27T11:00:00\n",
       "2     2016-05-27T11:00:00\n",
       "3     2016-05-27T11:00:00\n",
       "4     2016-05-27T11:00:00\n",
       "5     2016-05-27T11:00:00\n",
       "6     2016-05-27T11:00:00\n",
       "7     2016-05-27T11:00:00\n",
       "8     2016-05-27T11:00:00\n",
       "11    2016-05-27T11:30:00\n",
       "12    2016-05-27T11:30:00\n",
       "13    2016-05-27T11:40:00\n",
       "14    2016-05-27T12:00:00\n",
       "15    2016-05-27T12:00:00\n",
       "16    2016-05-27T12:00:00\n",
       "...\n",
       "1179    2016-06-02T09:30:00\n",
       "1180    2016-06-02T09:30:00\n",
       "1181    2016-06-02T09:30:00\n",
       "1182    2016-06-02T10:00:00\n",
       "1183    2016-06-02T10:00:00\n",
       "1184    2016-06-02T10:00:00\n",
       "1185    2016-06-02T10:00:00\n",
       "1186    2016-06-02T10:00:00\n",
       "1187    2016-06-02T10:00:00\n",
       "1188    2016-06-02T10:00:00\n",
       "1189    2016-06-02T10:00:00\n",
       "1190    2016-06-02T10:00:00\n",
       "1191    2016-06-02T10:00:00\n",
       "1192    2016-06-02T10:00:00\n",
       "1193    2016-06-02T10:00:00\n",
       "Name: start_iso, Length: 1084, dtype: object"
      ]
     },
     "execution_count": 144,
     "metadata": {},
     "output_type": "execute_result"
    }
   ],
   "source": [
    "#Add a column start at datetime format so one datetime is numeric\n",
    "new_df['start_utc']= pd.to_datetime(new_df['start'])\n",
    "new_df['start_iso']=[datetime.isoformat(x) for x in new_df['start_utc']]\n",
    "new_df['end_utc']= pd.to_datetime(new_df['end'])\n",
    "new_df['end_iso']=[datetime.isoformat(x) for x in new_df['end_utc']]\n",
    "\n",
    "new_df['start_utc']\n",
    "new_df['start_iso']\n"
   ]
  },
  {
   "cell_type": "markdown",
   "metadata": {},
   "source": [
    "#### DATATYPE SOLVING AND START COLUMN FORMAT TO ADD"
   ]
  },
  {
   "cell_type": "code",
   "execution_count": 146,
   "metadata": {
    "collapsed": false
   },
   "outputs": [],
   "source": [
    "#df.category.value_counts() \n",
    "#df.start_datetime.describe()\n",
    "#new_df.latitutde.value_counts()"
   ]
  },
  {
   "cell_type": "code",
   "execution_count": 149,
   "metadata": {
    "collapsed": false
   },
   "outputs": [
    {
     "data": {
      "text/plain": [
       "1084"
      ]
     },
     "execution_count": 149,
     "metadata": {},
     "output_type": "execute_result"
    }
   ],
   "source": [
    "#rewrite the file in Python (or use JQ) as a GEOjson format to be read in leaflet\n",
    "\n",
    "short_geojson_events = []   #stok into an array\n",
    "#short_df = df[0:5]   #\n",
    "\n",
    "import math\n",
    "\n",
    "for i, row in new_df.iterrows(): #for each event in my dataframe\n",
    "#for i, row in short_df.iterrows(): #for each event in my short dataframe df[0:5] \n",
    "        \n",
    "     #if i >= 200:    #break in my df for loop\n",
    "     #   break\n",
    "        \n",
    "     min_price=0 #set it to 0 \n",
    "     if not math.isnan(new_df.min_price[i] ): #if not Nan Set it to number\n",
    "            min_price = new_df.min_price[i]\n",
    "     \n",
    "     max_price=0 #set it to 0 \n",
    "     if not math.isnan(new_df.max_price[i] ): #if not Nan Set it to number\n",
    "            max_price = new_df.max_price[i]\n",
    "     \n",
    "        \n",
    "     o = { # create a dictionary (geojson model)\n",
    "        \"type\": \"Feature\",\n",
    "        \"geometry\": {\"type\": \"Point\", \"coordinates\": [(row.longitude),(new_df.latitutde[i])]}, # TRY 1 : with array of floats for the coordinates\n",
    "        \"properties\": {\"start_utc\": str(new_df.start_utc[i]),\"start_iso\": new_df.start_iso[i],\"end_utc\": str(new_df.end_utc[i]),\"end_iso\": new_df.end_iso[i],\"category\": new_df.category[i], \"name\": new_df.name[i], \"venue\" : new_df.venue[i], \"start\": new_df.start[i], \"end\":new_df.end[i], \"postcode\":new_df.postcode[i],\"Adress\": new_df.Adress[i], \"min_price\": (min_price), \"max_price\": (max_price), \"availability\": str(new_df.availability[i]), \"donation\": str(new_df.donation[i]) }\n",
    "        }\n",
    "     \n",
    "     short_geojson_events.append(o)\n",
    "\n",
    "\n",
    "\n",
    "with open('new_test.json', 'w') as out_file: # open the file with this name for 'w' writing ('r' = reading), and set the out_file as a file handle\n",
    "     #http://devdocs.io/python~3.5/library/json#json.dumps #json package and then dumps turn the dict or array into a json encoding string\n",
    "    s = json.dumps(short_geojson_events, indent=2) #indent = If indent is a non-negative integer or string, then JSON array elements and object members will be pretty-printed with that indent level.\n",
    "    out_file.write(s)       # with a file handle you can call write and write strings\n",
    "    \n",
    "len(short_geojson_events)\n",
    "#s"
   ]
  },
  {
   "cell_type": "code",
   "execution_count": null,
   "metadata": {
    "collapsed": true
   },
   "outputs": [],
   "source": [
    "II/ WEATHER DATA : FORECAST API"
   ]
  },
  {
   "cell_type": "code",
   "execution_count": 150,
   "metadata": {
    "collapsed": true
   },
   "outputs": [],
   "source": [
    "import requests\n",
    "import json\n",
    "import pandas as pd\n",
    "from pandas.io.json import json_normalize\n",
    "from datetime import *\n",
    "\n"
   ]
  },
  {
   "cell_type": "code",
   "execution_count": 151,
   "metadata": {
    "collapsed": false
   },
   "outputs": [
    {
     "name": "stdout",
     "output_type": "stream",
     "text": [
      "2016-05-27 15:07:50.523539\n",
      "2016-05-27T15:07:50.523609\n"
     ]
    },
    {
     "data": {
      "text/plain": [
       "'2016-05-27T15:07:50'"
      ]
     },
     "execution_count": 151,
     "metadata": {},
     "output_type": "execute_result"
    }
   ],
   "source": [
    "NOW=datetime.now()\n",
    "NOW_iso=datetime.now().isoformat()\n",
    "print NOW\n",
    "print NOW_iso\n",
    "\n",
    "hour=datetime.strftime(NOW,\"%Y-%m-%dT%H:%M:%S\")\n",
    "hour"
   ]
  },
  {
   "cell_type": "code",
   "execution_count": 152,
   "metadata": {
    "collapsed": false
   },
   "outputs": [
    {
     "name": "stderr",
     "output_type": "stream",
     "text": [
      "/Users/anouchkalettre/Library/Enthought/Canopy_32bit/User/lib/python2.7/site-packages/requests/packages/urllib3/util/ssl_.py:79: InsecurePlatformWarning: A true SSLContext object is not available. This prevents urllib3 from configuring SSL appropriately and may cause certain SSL connections to fail. For more information, see https://urllib3.readthedocs.org/en/latest/security.html#insecureplatformwarning.\n",
      "  InsecurePlatformWarning\n",
      "/Users/anouchkalettre/Library/Enthought/Canopy_32bit/User/lib/python2.7/site-packages/requests/packages/urllib3/util/ssl_.py:79: InsecurePlatformWarning: A true SSLContext object is not available. This prevents urllib3 from configuring SSL appropriately and may cause certain SSL connections to fail. For more information, see https://urllib3.readthedocs.org/en/latest/security.html#insecureplatformwarning.\n",
      "  InsecurePlatformWarning\n",
      "/Users/anouchkalettre/Library/Enthought/Canopy_32bit/User/lib/python2.7/site-packages/requests/packages/urllib3/util/ssl_.py:79: InsecurePlatformWarning: A true SSLContext object is not available. This prevents urllib3 from configuring SSL appropriately and may cause certain SSL connections to fail. For more information, see https://urllib3.readthedocs.org/en/latest/security.html#insecureplatformwarning.\n",
      "  InsecurePlatformWarning\n",
      "/Users/anouchkalettre/Library/Enthought/Canopy_32bit/User/lib/python2.7/site-packages/requests/packages/urllib3/util/ssl_.py:79: InsecurePlatformWarning: A true SSLContext object is not available. This prevents urllib3 from configuring SSL appropriately and may cause certain SSL connections to fail. For more information, see https://urllib3.readthedocs.org/en/latest/security.html#insecureplatformwarning.\n",
      "  InsecurePlatformWarning\n",
      "/Users/anouchkalettre/Library/Enthought/Canopy_32bit/User/lib/python2.7/site-packages/requests/packages/urllib3/util/ssl_.py:79: InsecurePlatformWarning: A true SSLContext object is not available. This prevents urllib3 from configuring SSL appropriately and may cause certain SSL connections to fail. For more information, see https://urllib3.readthedocs.org/en/latest/security.html#insecureplatformwarning.\n",
      "  InsecurePlatformWarning\n",
      "/Users/anouchkalettre/Library/Enthought/Canopy_32bit/User/lib/python2.7/site-packages/requests/packages/urllib3/util/ssl_.py:79: InsecurePlatformWarning: A true SSLContext object is not available. This prevents urllib3 from configuring SSL appropriately and may cause certain SSL connections to fail. For more information, see https://urllib3.readthedocs.org/en/latest/security.html#insecureplatformwarning.\n",
      "  InsecurePlatformWarning\n",
      "/Users/anouchkalettre/Library/Enthought/Canopy_32bit/User/lib/python2.7/site-packages/requests/packages/urllib3/util/ssl_.py:79: InsecurePlatformWarning: A true SSLContext object is not available. This prevents urllib3 from configuring SSL appropriately and may cause certain SSL connections to fail. For more information, see https://urllib3.readthedocs.org/en/latest/security.html#insecureplatformwarning.\n",
      "  InsecurePlatformWarning\n"
     ]
    }
   ],
   "source": [
    "#an empty list where each element is the day\n",
    "data=[]\n",
    "\n",
    "#Extract data from day 0 to day 7 according to what's needed = 1 week ahead from now\n",
    "for x in range(0,7): # for goes through each day from now on until +7\n",
    "    b = NOW + timedelta(days=x) \n",
    "    time=datetime.strftime(NOW,\"%H:%M:%S\")  #set the start time to time now\n",
    "    query = ('https://api.forecast.io/forecast/0df21d512781e37a9c5911805db70e15/51.5085300,-0.1257400,2016-'+b.strftime('%m')+'-'+b.strftime('%d')+'T'+str(time))\n",
    "    data.append(requests.get(query).json())"
   ]
  },
  {
   "cell_type": "code",
   "execution_count": 153,
   "metadata": {
    "collapsed": true
   },
   "outputs": [],
   "source": [
    "#From Json format to dataframe : data normalization\n",
    "df_current=json_normalize(data)"
   ]
  },
  {
   "cell_type": "code",
   "execution_count": 154,
   "metadata": {
    "collapsed": false
   },
   "outputs": [
    {
     "name": "stdout",
     "output_type": "stream",
     "text": [
      "0    1464358070\n",
      "1    1464444470\n",
      "2    1464530870\n",
      "3    1464617270\n",
      "4    1464703670\n",
      "5    1464790070\n",
      "6    1464876470\n",
      "Name: unixtime, dtype: int64\n",
      "0   2016-05-27 15:07:50\n",
      "1   2016-05-28 15:07:50\n",
      "2   2016-05-29 15:07:50\n",
      "3   2016-05-30 15:07:50\n",
      "4   2016-05-31 15:07:50\n",
      "5   2016-06-01 15:07:50\n",
      "6   2016-06-02 15:07:50\n",
      "Name: utc.datetime, dtype: datetime64[ns]\n",
      "0    2016-05-27T15:07:50\n",
      "1    2016-05-28T15:07:50\n",
      "2    2016-05-29T15:07:50\n",
      "3    2016-05-30T15:07:50\n",
      "4    2016-05-31T15:07:50\n",
      "5    2016-06-01T15:07:50\n",
      "6    2016-06-02T15:07:50\n",
      "Name: iso.datetime, dtype: object\n"
     ]
    },
    {
     "data": {
      "text/html": [
       "<div style=\"max-height:1000px;max-width:1500px;overflow:auto;\">\n",
       "<table border=\"1\" class=\"dataframe\">\n",
       "  <thead>\n",
       "    <tr style=\"text-align: right;\">\n",
       "      <th></th>\n",
       "      <th>currently.apparentTemperature</th>\n",
       "      <th>currently.cloudCover</th>\n",
       "      <th>currently.dewPoint</th>\n",
       "      <th>currently.humidity</th>\n",
       "      <th>currently.icon</th>\n",
       "      <th>currently.ozone</th>\n",
       "      <th>currently.precipIntensity</th>\n",
       "      <th>currently.precipProbability</th>\n",
       "      <th>currently.precipType</th>\n",
       "      <th>currently.pressure</th>\n",
       "      <th>...</th>\n",
       "      <th>minutely.data</th>\n",
       "      <th>minutely.icon</th>\n",
       "      <th>minutely.summary</th>\n",
       "      <th>offset</th>\n",
       "      <th>timezone</th>\n",
       "      <th>unixtime</th>\n",
       "      <th>utc.datetime</th>\n",
       "      <th>utc.date</th>\n",
       "      <th>utc.time</th>\n",
       "      <th>iso.datetime</th>\n",
       "    </tr>\n",
       "  </thead>\n",
       "  <tbody>\n",
       "    <tr>\n",
       "      <th>0</th>\n",
       "      <td> 68.36</td>\n",
       "      <td> 0.10</td>\n",
       "      <td> 47.40</td>\n",
       "      <td> 0.47</td>\n",
       "      <td>         clear-day</td>\n",
       "      <td> 370.32</td>\n",
       "      <td> 0.0000</td>\n",
       "      <td> 0.00</td>\n",
       "      <td>  NaN</td>\n",
       "      <td> 1016.41</td>\n",
       "      <td>...</td>\n",
       "      <td> [{u'precipIntensity': 0, u'precipProbability':...</td>\n",
       "      <td> clear-day</td>\n",
       "      <td> Clear for the hour.</td>\n",
       "      <td> 1</td>\n",
       "      <td> Europe/London</td>\n",
       "      <td> 1464358070</td>\n",
       "      <td>2016-05-27 15:07:50</td>\n",
       "      <td> 2016-05-27</td>\n",
       "      <td> 00:15:07</td>\n",
       "      <td> 2016-05-27T15:07:50</td>\n",
       "    </tr>\n",
       "    <tr>\n",
       "      <th>1</th>\n",
       "      <td> 68.75</td>\n",
       "      <td> 0.51</td>\n",
       "      <td> 55.30</td>\n",
       "      <td> 0.62</td>\n",
       "      <td> partly-cloudy-day</td>\n",
       "      <td> 374.85</td>\n",
       "      <td> 0.0000</td>\n",
       "      <td> 0.00</td>\n",
       "      <td>  NaN</td>\n",
       "      <td> 1013.56</td>\n",
       "      <td>...</td>\n",
       "      <td>                                               NaN</td>\n",
       "      <td>       NaN</td>\n",
       "      <td>                 NaN</td>\n",
       "      <td> 1</td>\n",
       "      <td> Europe/London</td>\n",
       "      <td> 1464444470</td>\n",
       "      <td>2016-05-28 15:07:50</td>\n",
       "      <td> 2016-05-28</td>\n",
       "      <td> 00:15:07</td>\n",
       "      <td> 2016-05-28T15:07:50</td>\n",
       "    </tr>\n",
       "    <tr>\n",
       "      <th>2</th>\n",
       "      <td> 70.33</td>\n",
       "      <td> 0.59</td>\n",
       "      <td> 55.24</td>\n",
       "      <td> 0.59</td>\n",
       "      <td> partly-cloudy-day</td>\n",
       "      <td> 365.39</td>\n",
       "      <td> 0.0016</td>\n",
       "      <td> 0.04</td>\n",
       "      <td> rain</td>\n",
       "      <td> 1011.67</td>\n",
       "      <td>...</td>\n",
       "      <td>                                               NaN</td>\n",
       "      <td>       NaN</td>\n",
       "      <td>                 NaN</td>\n",
       "      <td> 1</td>\n",
       "      <td> Europe/London</td>\n",
       "      <td> 1464530870</td>\n",
       "      <td>2016-05-29 15:07:50</td>\n",
       "      <td> 2016-05-29</td>\n",
       "      <td> 00:15:07</td>\n",
       "      <td> 2016-05-29T15:07:50</td>\n",
       "    </tr>\n",
       "    <tr>\n",
       "      <th>3</th>\n",
       "      <td> 66.67</td>\n",
       "      <td> 0.72</td>\n",
       "      <td> 56.58</td>\n",
       "      <td> 0.70</td>\n",
       "      <td> partly-cloudy-day</td>\n",
       "      <td> 353.64</td>\n",
       "      <td> 0.0068</td>\n",
       "      <td> 0.33</td>\n",
       "      <td> rain</td>\n",
       "      <td> 1013.04</td>\n",
       "      <td>...</td>\n",
       "      <td>                                               NaN</td>\n",
       "      <td>       NaN</td>\n",
       "      <td>                 NaN</td>\n",
       "      <td> 1</td>\n",
       "      <td> Europe/London</td>\n",
       "      <td> 1464617270</td>\n",
       "      <td>2016-05-30 15:07:50</td>\n",
       "      <td> 2016-05-30</td>\n",
       "      <td> 00:15:07</td>\n",
       "      <td> 2016-05-30T15:07:50</td>\n",
       "    </tr>\n",
       "    <tr>\n",
       "      <th>4</th>\n",
       "      <td> 64.70</td>\n",
       "      <td> 0.99</td>\n",
       "      <td> 58.86</td>\n",
       "      <td> 0.81</td>\n",
       "      <td>              rain</td>\n",
       "      <td> 351.80</td>\n",
       "      <td> 0.0124</td>\n",
       "      <td> 0.52</td>\n",
       "      <td> rain</td>\n",
       "      <td> 1014.98</td>\n",
       "      <td>...</td>\n",
       "      <td>                                               NaN</td>\n",
       "      <td>       NaN</td>\n",
       "      <td>                 NaN</td>\n",
       "      <td> 1</td>\n",
       "      <td> Europe/London</td>\n",
       "      <td> 1464703670</td>\n",
       "      <td>2016-05-31 15:07:50</td>\n",
       "      <td> 2016-05-31</td>\n",
       "      <td> 00:15:07</td>\n",
       "      <td> 2016-05-31T15:07:50</td>\n",
       "    </tr>\n",
       "    <tr>\n",
       "      <th>5</th>\n",
       "      <td> 68.01</td>\n",
       "      <td> 0.78</td>\n",
       "      <td> 60.22</td>\n",
       "      <td> 0.76</td>\n",
       "      <td>              rain</td>\n",
       "      <td> 338.36</td>\n",
       "      <td> 0.0135</td>\n",
       "      <td> 0.53</td>\n",
       "      <td> rain</td>\n",
       "      <td> 1017.84</td>\n",
       "      <td>...</td>\n",
       "      <td>                                               NaN</td>\n",
       "      <td>       NaN</td>\n",
       "      <td>                 NaN</td>\n",
       "      <td> 1</td>\n",
       "      <td> Europe/London</td>\n",
       "      <td> 1464790070</td>\n",
       "      <td>2016-06-01 15:07:50</td>\n",
       "      <td> 2016-06-01</td>\n",
       "      <td> 00:15:07</td>\n",
       "      <td> 2016-06-01T15:07:50</td>\n",
       "    </tr>\n",
       "    <tr>\n",
       "      <th>6</th>\n",
       "      <td> 64.30</td>\n",
       "      <td> 0.93</td>\n",
       "      <td> 56.76</td>\n",
       "      <td> 0.77</td>\n",
       "      <td> partly-cloudy-day</td>\n",
       "      <td> 323.01</td>\n",
       "      <td> 0.0016</td>\n",
       "      <td> 0.04</td>\n",
       "      <td> rain</td>\n",
       "      <td> 1017.46</td>\n",
       "      <td>...</td>\n",
       "      <td>                                               NaN</td>\n",
       "      <td>       NaN</td>\n",
       "      <td>                 NaN</td>\n",
       "      <td> 1</td>\n",
       "      <td> Europe/London</td>\n",
       "      <td> 1464876470</td>\n",
       "      <td>2016-06-02 15:07:50</td>\n",
       "      <td> 2016-06-02</td>\n",
       "      <td> 00:15:07</td>\n",
       "      <td> 2016-06-02T15:07:50</td>\n",
       "    </tr>\n",
       "  </tbody>\n",
       "</table>\n",
       "<p>7 rows × 38 columns</p>\n",
       "</div>"
      ],
      "text/plain": [
       "   currently.apparentTemperature  currently.cloudCover  currently.dewPoint  \\\n",
       "0                          68.36                  0.10               47.40   \n",
       "1                          68.75                  0.51               55.30   \n",
       "2                          70.33                  0.59               55.24   \n",
       "3                          66.67                  0.72               56.58   \n",
       "4                          64.70                  0.99               58.86   \n",
       "5                          68.01                  0.78               60.22   \n",
       "6                          64.30                  0.93               56.76   \n",
       "\n",
       "   currently.humidity     currently.icon  currently.ozone  \\\n",
       "0                0.47          clear-day           370.32   \n",
       "1                0.62  partly-cloudy-day           374.85   \n",
       "2                0.59  partly-cloudy-day           365.39   \n",
       "3                0.70  partly-cloudy-day           353.64   \n",
       "4                0.81               rain           351.80   \n",
       "5                0.76               rain           338.36   \n",
       "6                0.77  partly-cloudy-day           323.01   \n",
       "\n",
       "   currently.precipIntensity  currently.precipProbability  \\\n",
       "0                     0.0000                         0.00   \n",
       "1                     0.0000                         0.00   \n",
       "2                     0.0016                         0.04   \n",
       "3                     0.0068                         0.33   \n",
       "4                     0.0124                         0.52   \n",
       "5                     0.0135                         0.53   \n",
       "6                     0.0016                         0.04   \n",
       "\n",
       "  currently.precipType  currently.pressure         ...           \\\n",
       "0                  NaN             1016.41         ...            \n",
       "1                  NaN             1013.56         ...            \n",
       "2                 rain             1011.67         ...            \n",
       "3                 rain             1013.04         ...            \n",
       "4                 rain             1014.98         ...            \n",
       "5                 rain             1017.84         ...            \n",
       "6                 rain             1017.46         ...            \n",
       "\n",
       "                                       minutely.data  minutely.icon  \\\n",
       "0  [{u'precipIntensity': 0, u'precipProbability':...      clear-day   \n",
       "1                                                NaN            NaN   \n",
       "2                                                NaN            NaN   \n",
       "3                                                NaN            NaN   \n",
       "4                                                NaN            NaN   \n",
       "5                                                NaN            NaN   \n",
       "6                                                NaN            NaN   \n",
       "\n",
       "      minutely.summary  offset       timezone    unixtime        utc.datetime  \\\n",
       "0  Clear for the hour.       1  Europe/London  1464358070 2016-05-27 15:07:50   \n",
       "1                  NaN       1  Europe/London  1464444470 2016-05-28 15:07:50   \n",
       "2                  NaN       1  Europe/London  1464530870 2016-05-29 15:07:50   \n",
       "3                  NaN       1  Europe/London  1464617270 2016-05-30 15:07:50   \n",
       "4                  NaN       1  Europe/London  1464703670 2016-05-31 15:07:50   \n",
       "5                  NaN       1  Europe/London  1464790070 2016-06-01 15:07:50   \n",
       "6                  NaN       1  Europe/London  1464876470 2016-06-02 15:07:50   \n",
       "\n",
       "     utc.date  utc.time         iso.datetime  \n",
       "0  2016-05-27  00:15:07  2016-05-27T15:07:50  \n",
       "1  2016-05-28  00:15:07  2016-05-28T15:07:50  \n",
       "2  2016-05-29  00:15:07  2016-05-29T15:07:50  \n",
       "3  2016-05-30  00:15:07  2016-05-30T15:07:50  \n",
       "4  2016-05-31  00:15:07  2016-05-31T15:07:50  \n",
       "5  2016-06-01  00:15:07  2016-06-01T15:07:50  \n",
       "6  2016-06-02  00:15:07  2016-06-02T15:07:50  \n",
       "\n",
       "[7 rows x 38 columns]"
      ]
     },
     "execution_count": 154,
     "metadata": {},
     "output_type": "execute_result"
    }
   ],
   "source": [
    "#unix format = column currently.time\n",
    "df_current['unixtime']= df_current['currently.time']\n",
    "\n",
    "#list comprehension to add a column datetime in UTC datetime format\n",
    "df_current['utc.datetime']=[datetime.fromtimestamp(x) for x in df_current['unixtime']]\n",
    "#just the utc date and just the utctime\n",
    "df_current['utc.date']=[datetime.strptime(str(df_current['utc.datetime'][x])[:-9],\"%Y-%m-%d\").date() for x in range(0,7)]\n",
    "df_current['utc.time']=[datetime.strptime(str(df_current['utc.datetime'][x])[11:-3],\"%M:%S\").time() for x in range(0,7)]\n",
    " \n",
    "#list comprehension to add iso format from UTC datetime objects \n",
    "df_current['iso.datetime']=[datetime.isoformat(x) for x in df_current['utc.datetime']]\n",
    "\n",
    "print df_current['unixtime'][0:]\n",
    "print df_current['utc.datetime'][0:]\n",
    "print df_current['iso.datetime'][0:]\n",
    "df_current"
   ]
  },
  {
   "cell_type": "code",
   "execution_count": 177,
   "metadata": {
    "collapsed": false
   },
   "outputs": [
    {
     "name": "stdout",
     "output_type": "stream",
     "text": [
      "15:07:50\n",
      "16:07:50\n",
      "17:07:50\n",
      "18:07:50\n",
      "19:07:50\n",
      "20:07:50\n",
      "21:07:50\n",
      "22:07:50\n",
      "23:07:50\n",
      "00:07:50\n",
      "01:07:50\n",
      "02:07:50\n",
      "03:07:50\n",
      "04:07:50\n",
      "05:07:50\n",
      "06:07:50\n",
      "07:07:50\n",
      "08:07:50\n",
      "09:07:50\n",
      "10:07:50\n",
      "11:07:50\n",
      "12:07:50\n",
      "13:07:50\n",
      "14:07:50\n"
     ]
    }
   ],
   "source": [
    "FromNowTo24h=[]\n",
    "#oneweek=[]\n",
    "\n",
    "#for days in range (0,7): \n",
    "for x in range(0,24):  # for goes through each day from now on until +7\n",
    "        #b_weather = NOW timedelta(days=days,hours=x)\n",
    "        b_weather = NOW + timedelta(hours=x)\n",
    "        time_weather=datetime.strftime(b_weather,\"%H:%M:%S\")\n",
    "        print time_weather\n",
    "        FromNowTo24h.append(time_weather)\n",
    "        #oneweek.append(time_weather)\n",
    "#oneday"
   ]
  },
  {
   "cell_type": "code",
   "execution_count": 178,
   "metadata": {
    "collapsed": false
   },
   "outputs": [
    {
     "data": {
      "text/html": [
       "<div style=\"max-height:1000px;max-width:1500px;overflow:auto;\">\n",
       "<table border=\"1\" class=\"dataframe\">\n",
       "  <thead>\n",
       "    <tr style=\"text-align: right;\">\n",
       "      <th></th>\n",
       "      <th>0</th>\n",
       "      <th>1</th>\n",
       "      <th>2</th>\n",
       "      <th>3</th>\n",
       "      <th>4</th>\n",
       "      <th>5</th>\n",
       "      <th>6</th>\n",
       "      <th>7</th>\n",
       "      <th>8</th>\n",
       "      <th>9</th>\n",
       "      <th>...</th>\n",
       "      <th>14</th>\n",
       "      <th>15</th>\n",
       "      <th>16</th>\n",
       "      <th>17</th>\n",
       "      <th>18</th>\n",
       "      <th>19</th>\n",
       "      <th>20</th>\n",
       "      <th>21</th>\n",
       "      <th>22</th>\n",
       "      <th>23</th>\n",
       "    </tr>\n",
       "  </thead>\n",
       "  <tbody>\n",
       "    <tr>\n",
       "      <th>0</th>\n",
       "      <td>                 [rain, 52.59, 0.41, 381.6]</td>\n",
       "      <td>                [rain, 52.05, 0.28, 382.8]</td>\n",
       "      <td>    [partly-cloudy-night, 51.54, 0, 382.26]</td>\n",
       "      <td>    [partly-cloudy-night, 51.06, 0, 380.97]</td>\n",
       "      <td>    [partly-cloudy-night, 50.69, 0, 379.7]</td>\n",
       "      <td>  [partly-cloudy-night, 51.12, 0, 378.67]</td>\n",
       "      <td>    [partly-cloudy-day, 51.68, 0, 377.67]</td>\n",
       "      <td>    [partly-cloudy-day, 52.37, 0, 376.8]</td>\n",
       "      <td>    [partly-cloudy-day, 54.61, 0, 376.15]</td>\n",
       "      <td>     [partly-cloudy-day, 56.6, 0, 375.63]</td>\n",
       "      <td>...</td>\n",
       "      <td>            [clear-day, 67.18, 0, 372.01]</td>\n",
       "      <td>            [clear-day, 68.13, 0, 370.47]</td>\n",
       "      <td>            [clear-day, 69.91, 0, 369.3]</td>\n",
       "      <td>              [rain, 69.84, 0.24, 368.69]</td>\n",
       "      <td>              [rain, 69.62, 0.51, 368.44]</td>\n",
       "      <td>              [rain, 69.12, 0.54, 368.6]</td>\n",
       "      <td>              [rain, 67.01, 0.55, 369.34]</td>\n",
       "      <td>                [rain, 64.55, 0.53, 370.48]</td>\n",
       "      <td>                [rain, 61.98, 0.52, 371.5]</td>\n",
       "      <td>                 [rain, 60.03, 0.5, 372.19]</td>\n",
       "    </tr>\n",
       "    <tr>\n",
       "      <th>1</th>\n",
       "      <td>                  [rain, 57.49, 0.4, 372.7]</td>\n",
       "      <td>                [rain, 55.75, 0.28, 373.3]</td>\n",
       "      <td> [partly-cloudy-night, 54.62, 0.15, 373.84]</td>\n",
       "      <td> [partly-cloudy-night, 53.79, 0.04, 374.34]</td>\n",
       "      <td>     [partly-cloudy-night, 53.2, 0, 374.8]</td>\n",
       "      <td>     [partly-cloudy-day, 52.7, 0, 375.21]</td>\n",
       "      <td>    [partly-cloudy-day, 52.17, 0, 375.57]</td>\n",
       "      <td>    [partly-cloudy-day, 51.78, 0, 375.9]</td>\n",
       "      <td>    [partly-cloudy-day, 53.85, 0, 376.23]</td>\n",
       "      <td>    [partly-cloudy-day, 55.88, 0, 376.53]</td>\n",
       "      <td>...</td>\n",
       "      <td>    [partly-cloudy-day, 66.13, 0, 375.81]</td>\n",
       "      <td>    [partly-cloudy-day, 68.51, 0, 374.98]</td>\n",
       "      <td>   [partly-cloudy-day, 70.35, 0.01, 374]</td>\n",
       "      <td> [partly-cloudy-day, 69.21, 0.01, 372.81]</td>\n",
       "      <td> [partly-cloudy-day, 67.62, 0.02, 371.47]</td>\n",
       "      <td>         [clear-day, 65.83, 0.03, 370.2]</td>\n",
       "      <td>  [partly-cloudy-day, 63.5, 0.02, 368.99]</td>\n",
       "      <td> [partly-cloudy-night, 61.41, 0.01, 367.85]</td>\n",
       "      <td>      [partly-cloudy-night, 59.57, 0, 367]</td>\n",
       "      <td>      [partly-cloudy-night, 57.7, 0, 366.7]</td>\n",
       "    </tr>\n",
       "    <tr>\n",
       "      <th>2</th>\n",
       "      <td>             [clear-night, 56.75, 0, 366.6]</td>\n",
       "      <td>             [clear-night, 54.3, 0, 366.4]</td>\n",
       "      <td>             [clear-night, 53.1, 0, 365.39]</td>\n",
       "      <td>    [partly-cloudy-night, 52.05, 0, 364.09]</td>\n",
       "      <td>    [partly-cloudy-night, 50.77, 0, 363.3]</td>\n",
       "      <td>     [partly-cloudy-day, 51.36, 0, 363.4]</td>\n",
       "      <td>    [partly-cloudy-day, 52.06, 0, 363.99]</td>\n",
       "      <td>    [partly-cloudy-day, 52.69, 0, 364.7]</td>\n",
       "      <td>    [partly-cloudy-day, 54.59, 0, 365.51]</td>\n",
       "      <td>    [partly-cloudy-day, 56.58, 0, 366.43]</td>\n",
       "      <td>...</td>\n",
       "      <td> [partly-cloudy-day, 68.58, 0.01, 366.53]</td>\n",
       "      <td> [partly-cloudy-day, 70.19, 0.03, 365.54]</td>\n",
       "      <td> [partly-cloudy-day, 71.26, 0.05, 364.4]</td>\n",
       "      <td> [partly-cloudy-day, 69.76, 0.06, 363.06]</td>\n",
       "      <td> [partly-cloudy-day, 67.71, 0.06, 361.57]</td>\n",
       "      <td> [partly-cloudy-day, 65.64, 0.06, 360.3]</td>\n",
       "      <td> [partly-cloudy-day, 62.89, 0.05, 359.35]</td>\n",
       "      <td> [partly-cloudy-night, 60.46, 0.03, 358.61]</td>\n",
       "      <td> [partly-cloudy-night, 58.36, 0.02, 358.1]</td>\n",
       "      <td> [partly-cloudy-night, 56.86, 0.01, 357.79]</td>\n",
       "    </tr>\n",
       "    <tr>\n",
       "      <th>3</th>\n",
       "      <td> [partly-cloudy-night, 56.25, 0.01, 357.97]</td>\n",
       "      <td> [partly-cloudy-night, 54.09, 0.01, 357.9]</td>\n",
       "      <td> [partly-cloudy-night, 53.19, 0.02, 358.64]</td>\n",
       "      <td> [partly-cloudy-night, 52.61, 0.03, 359.67]</td>\n",
       "      <td> [partly-cloudy-night, 51.72, 0.04, 360.3]</td>\n",
       "      <td> [partly-cloudy-day, 52.32, 0.04, 360.11]</td>\n",
       "      <td> [partly-cloudy-day, 52.93, 0.05, 359.51]</td>\n",
       "      <td> [partly-cloudy-day, 53.38, 0.05, 359.1]</td>\n",
       "      <td> [partly-cloudy-day, 54.56, 0.05, 359.25]</td>\n",
       "      <td> [partly-cloudy-day, 55.73, 0.06, 359.57]</td>\n",
       "      <td>...</td>\n",
       "      <td>  [partly-cloudy-day, 65.3, 0.18, 355.06]</td>\n",
       "      <td>              [rain, 66.56, 0.31, 353.78]</td>\n",
       "      <td>               [rain, 67.4, 0.47, 352.7]</td>\n",
       "      <td>              [rain, 66.29, 0.52, 352.01]</td>\n",
       "      <td>              [rain, 64.71, 0.55, 351.51]</td>\n",
       "      <td>              [rain, 62.95, 0.56, 350.9]</td>\n",
       "      <td>               [rain, 60.96, 0.54, 349.9]</td>\n",
       "      <td>                [rain, 59.23, 0.45, 348.78]</td>\n",
       "      <td>   [partly-cloudy-night, 57.91, 0.18, 348]</td>\n",
       "      <td>  [partly-cloudy-night, 56.83, 0.1, 347.84]</td>\n",
       "    </tr>\n",
       "    <tr>\n",
       "      <th>4</th>\n",
       "      <td> [partly-cloudy-night, 57.78, 0.11, 348.13]</td>\n",
       "      <td>              [cloudy, 55.33, 0.08, 348.2]</td>\n",
       "      <td>              [cloudy, 53.93, 0.07, 348.26]</td>\n",
       "      <td>              [cloudy, 54.49, 0.07, 348.33]</td>\n",
       "      <td>              [cloudy, 54.92, 0.07, 348.4]</td>\n",
       "      <td>            [cloudy, 55.21, 0.07, 348.47]</td>\n",
       "      <td>            [cloudy, 55.47, 0.07, 348.55]</td>\n",
       "      <td>            [cloudy, 55.53, 0.08, 348.7]</td>\n",
       "      <td>             [cloudy, 55.93, 0.1, 348.96]</td>\n",
       "      <td>            [cloudy, 56.43, 0.13, 349.29]</td>\n",
       "      <td>...</td>\n",
       "      <td>              [rain, 63.03, 0.52, 351.03]</td>\n",
       "      <td>              [rain, 64.57, 0.52, 351.76]</td>\n",
       "      <td>              [rain, 65.57, 0.52, 352.1]</td>\n",
       "      <td>              [rain, 64.87, 0.51, 351.85]</td>\n",
       "      <td>               [rain, 63.65, 0.5, 351.21]</td>\n",
       "      <td>              [rain, 62.22, 0.43, 350.3]</td>\n",
       "      <td>              [rain, 60.09, 0.29, 349.02]</td>\n",
       "      <td>   [partly-cloudy-day, 58.32, 0.15, 347.46]</td>\n",
       "      <td>   [partly-cloudy-night, 57.01, 0.05, 346]</td>\n",
       "      <td> [partly-cloudy-night, 53.94, 0.02, 344.64]</td>\n",
       "    </tr>\n",
       "    <tr>\n",
       "      <th>5</th>\n",
       "      <td> [partly-cloudy-night, 55.34, 0.03, 343.73]</td>\n",
       "      <td>              [cloudy, 52.43, 0.01, 342.6]</td>\n",
       "      <td> [partly-cloudy-night, 49.81, 0.01, 342.32]</td>\n",
       "      <td>    [partly-cloudy-night, 49.42, 0, 342.51]</td>\n",
       "      <td>    [partly-cloudy-night, 49.98, 0, 343.5]</td>\n",
       "      <td>    [partly-cloudy-day, 51.05, 0, 345.93]</td>\n",
       "      <td>    [partly-cloudy-day, 52.89, 0, 349.15]</td>\n",
       "      <td>    [partly-cloudy-day, 54.68, 0, 351.5]</td>\n",
       "      <td> [partly-cloudy-day, 56.56, 0.02, 352.53]</td>\n",
       "      <td> [partly-cloudy-day, 58.59, 0.06, 352.69]</td>\n",
       "      <td>...</td>\n",
       "      <td>              [rain, 66.98, 0.51, 339.67]</td>\n",
       "      <td>              [rain, 67.98, 0.53, 338.45]</td>\n",
       "      <td>              [rain, 68.26, 0.54, 337.8]</td>\n",
       "      <td>               [rain, 67.8, 0.53, 338.01]</td>\n",
       "      <td>              [rain, 66.61, 0.52, 338.81]</td>\n",
       "      <td>                [rain, 64.6, 0.5, 339.2]</td>\n",
       "      <td>              [rain, 61.56, 0.35, 338.81]</td>\n",
       "      <td>   [partly-cloudy-day, 58.08, 0.14, 338.02]</td>\n",
       "      <td>            [clear-night, 55.2, 0.01, 337]</td>\n",
       "      <td>            [clear-night, 53.32, 0, 335.69]</td>\n",
       "    </tr>\n",
       "    <tr>\n",
       "      <th>6</th>\n",
       "      <td>             [clear-night, 54.4, 0, 334.13]</td>\n",
       "      <td>            [clear-night, 51.42, 0, 332.7]</td>\n",
       "      <td>            [clear-night, 48.91, 0, 331.35]</td>\n",
       "      <td>             [clear-night, 49.39, 0, 330.1]</td>\n",
       "      <td>            [clear-night, 50.54, 0, 329.3]</td>\n",
       "      <td>            [clear-day, 51.04, 0, 328.99]</td>\n",
       "      <td>               [clear-day, 52, 0, 329.11]</td>\n",
       "      <td>            [clear-day, 53.02, 0, 329.9]</td>\n",
       "      <td>             [clear-day, 54.12, 0, 332.2]</td>\n",
       "      <td> [partly-cloudy-day, 55.51, 0.01, 335.16]</td>\n",
       "      <td>...</td>\n",
       "      <td>  [partly-cloudy-day, 63.17, 0.03, 325.2]</td>\n",
       "      <td> [partly-cloudy-day, 64.21, 0.04, 323.23]</td>\n",
       "      <td>             [cloudy, 64.9, 0.04, 321.6]</td>\n",
       "      <td>            [cloudy, 65.44, 0.04, 320.46]</td>\n",
       "      <td>            [cloudy, 65.57, 0.04, 319.67]</td>\n",
       "      <td> [partly-cloudy-day, 64.47, 0.03, 318.8]</td>\n",
       "      <td> [partly-cloudy-day, 61.21, 0.02, 317.62]</td>\n",
       "      <td>   [partly-cloudy-day, 57.01, 0.01, 316.37]</td>\n",
       "      <td>            [clear-night, 54.02, 0, 315.3]</td>\n",
       "      <td>          [clear-night, 53.52, 0.01, 314.5]</td>\n",
       "    </tr>\n",
       "  </tbody>\n",
       "</table>\n",
       "<p>7 rows × 24 columns</p>\n",
       "</div>"
      ],
      "text/plain": [
       "                                           0   \\\n",
       "0                  [rain, 52.59, 0.41, 381.6]   \n",
       "1                   [rain, 57.49, 0.4, 372.7]   \n",
       "2              [clear-night, 56.75, 0, 366.6]   \n",
       "3  [partly-cloudy-night, 56.25, 0.01, 357.97]   \n",
       "4  [partly-cloudy-night, 57.78, 0.11, 348.13]   \n",
       "5  [partly-cloudy-night, 55.34, 0.03, 343.73]   \n",
       "6              [clear-night, 54.4, 0, 334.13]   \n",
       "\n",
       "                                          1   \\\n",
       "0                 [rain, 52.05, 0.28, 382.8]   \n",
       "1                 [rain, 55.75, 0.28, 373.3]   \n",
       "2              [clear-night, 54.3, 0, 366.4]   \n",
       "3  [partly-cloudy-night, 54.09, 0.01, 357.9]   \n",
       "4               [cloudy, 55.33, 0.08, 348.2]   \n",
       "5               [cloudy, 52.43, 0.01, 342.6]   \n",
       "6             [clear-night, 51.42, 0, 332.7]   \n",
       "\n",
       "                                           2   \\\n",
       "0     [partly-cloudy-night, 51.54, 0, 382.26]   \n",
       "1  [partly-cloudy-night, 54.62, 0.15, 373.84]   \n",
       "2              [clear-night, 53.1, 0, 365.39]   \n",
       "3  [partly-cloudy-night, 53.19, 0.02, 358.64]   \n",
       "4               [cloudy, 53.93, 0.07, 348.26]   \n",
       "5  [partly-cloudy-night, 49.81, 0.01, 342.32]   \n",
       "6             [clear-night, 48.91, 0, 331.35]   \n",
       "\n",
       "                                           3   \\\n",
       "0     [partly-cloudy-night, 51.06, 0, 380.97]   \n",
       "1  [partly-cloudy-night, 53.79, 0.04, 374.34]   \n",
       "2     [partly-cloudy-night, 52.05, 0, 364.09]   \n",
       "3  [partly-cloudy-night, 52.61, 0.03, 359.67]   \n",
       "4               [cloudy, 54.49, 0.07, 348.33]   \n",
       "5     [partly-cloudy-night, 49.42, 0, 342.51]   \n",
       "6              [clear-night, 49.39, 0, 330.1]   \n",
       "\n",
       "                                          4   \\\n",
       "0     [partly-cloudy-night, 50.69, 0, 379.7]   \n",
       "1      [partly-cloudy-night, 53.2, 0, 374.8]   \n",
       "2     [partly-cloudy-night, 50.77, 0, 363.3]   \n",
       "3  [partly-cloudy-night, 51.72, 0.04, 360.3]   \n",
       "4               [cloudy, 54.92, 0.07, 348.4]   \n",
       "5     [partly-cloudy-night, 49.98, 0, 343.5]   \n",
       "6             [clear-night, 50.54, 0, 329.3]   \n",
       "\n",
       "                                         5   \\\n",
       "0   [partly-cloudy-night, 51.12, 0, 378.67]   \n",
       "1      [partly-cloudy-day, 52.7, 0, 375.21]   \n",
       "2      [partly-cloudy-day, 51.36, 0, 363.4]   \n",
       "3  [partly-cloudy-day, 52.32, 0.04, 360.11]   \n",
       "4             [cloudy, 55.21, 0.07, 348.47]   \n",
       "5     [partly-cloudy-day, 51.05, 0, 345.93]   \n",
       "6             [clear-day, 51.04, 0, 328.99]   \n",
       "\n",
       "                                         6   \\\n",
       "0     [partly-cloudy-day, 51.68, 0, 377.67]   \n",
       "1     [partly-cloudy-day, 52.17, 0, 375.57]   \n",
       "2     [partly-cloudy-day, 52.06, 0, 363.99]   \n",
       "3  [partly-cloudy-day, 52.93, 0.05, 359.51]   \n",
       "4             [cloudy, 55.47, 0.07, 348.55]   \n",
       "5     [partly-cloudy-day, 52.89, 0, 349.15]   \n",
       "6                [clear-day, 52, 0, 329.11]   \n",
       "\n",
       "                                        7   \\\n",
       "0     [partly-cloudy-day, 52.37, 0, 376.8]   \n",
       "1     [partly-cloudy-day, 51.78, 0, 375.9]   \n",
       "2     [partly-cloudy-day, 52.69, 0, 364.7]   \n",
       "3  [partly-cloudy-day, 53.38, 0.05, 359.1]   \n",
       "4             [cloudy, 55.53, 0.08, 348.7]   \n",
       "5     [partly-cloudy-day, 54.68, 0, 351.5]   \n",
       "6             [clear-day, 53.02, 0, 329.9]   \n",
       "\n",
       "                                         8   \\\n",
       "0     [partly-cloudy-day, 54.61, 0, 376.15]   \n",
       "1     [partly-cloudy-day, 53.85, 0, 376.23]   \n",
       "2     [partly-cloudy-day, 54.59, 0, 365.51]   \n",
       "3  [partly-cloudy-day, 54.56, 0.05, 359.25]   \n",
       "4              [cloudy, 55.93, 0.1, 348.96]   \n",
       "5  [partly-cloudy-day, 56.56, 0.02, 352.53]   \n",
       "6              [clear-day, 54.12, 0, 332.2]   \n",
       "\n",
       "                                         9   \\\n",
       "0      [partly-cloudy-day, 56.6, 0, 375.63]   \n",
       "1     [partly-cloudy-day, 55.88, 0, 376.53]   \n",
       "2     [partly-cloudy-day, 56.58, 0, 366.43]   \n",
       "3  [partly-cloudy-day, 55.73, 0.06, 359.57]   \n",
       "4             [cloudy, 56.43, 0.13, 349.29]   \n",
       "5  [partly-cloudy-day, 58.59, 0.06, 352.69]   \n",
       "6  [partly-cloudy-day, 55.51, 0.01, 335.16]   \n",
       "\n",
       "                      ...                      \\\n",
       "0                     ...                       \n",
       "1                     ...                       \n",
       "2                     ...                       \n",
       "3                     ...                       \n",
       "4                     ...                       \n",
       "5                     ...                       \n",
       "6                     ...                       \n",
       "\n",
       "                                         14  \\\n",
       "0             [clear-day, 67.18, 0, 372.01]   \n",
       "1     [partly-cloudy-day, 66.13, 0, 375.81]   \n",
       "2  [partly-cloudy-day, 68.58, 0.01, 366.53]   \n",
       "3   [partly-cloudy-day, 65.3, 0.18, 355.06]   \n",
       "4               [rain, 63.03, 0.52, 351.03]   \n",
       "5               [rain, 66.98, 0.51, 339.67]   \n",
       "6   [partly-cloudy-day, 63.17, 0.03, 325.2]   \n",
       "\n",
       "                                         15  \\\n",
       "0             [clear-day, 68.13, 0, 370.47]   \n",
       "1     [partly-cloudy-day, 68.51, 0, 374.98]   \n",
       "2  [partly-cloudy-day, 70.19, 0.03, 365.54]   \n",
       "3               [rain, 66.56, 0.31, 353.78]   \n",
       "4               [rain, 64.57, 0.52, 351.76]   \n",
       "5               [rain, 67.98, 0.53, 338.45]   \n",
       "6  [partly-cloudy-day, 64.21, 0.04, 323.23]   \n",
       "\n",
       "                                        16  \\\n",
       "0             [clear-day, 69.91, 0, 369.3]   \n",
       "1    [partly-cloudy-day, 70.35, 0.01, 374]   \n",
       "2  [partly-cloudy-day, 71.26, 0.05, 364.4]   \n",
       "3                [rain, 67.4, 0.47, 352.7]   \n",
       "4               [rain, 65.57, 0.52, 352.1]   \n",
       "5               [rain, 68.26, 0.54, 337.8]   \n",
       "6              [cloudy, 64.9, 0.04, 321.6]   \n",
       "\n",
       "                                         17  \\\n",
       "0               [rain, 69.84, 0.24, 368.69]   \n",
       "1  [partly-cloudy-day, 69.21, 0.01, 372.81]   \n",
       "2  [partly-cloudy-day, 69.76, 0.06, 363.06]   \n",
       "3               [rain, 66.29, 0.52, 352.01]   \n",
       "4               [rain, 64.87, 0.51, 351.85]   \n",
       "5                [rain, 67.8, 0.53, 338.01]   \n",
       "6             [cloudy, 65.44, 0.04, 320.46]   \n",
       "\n",
       "                                         18  \\\n",
       "0               [rain, 69.62, 0.51, 368.44]   \n",
       "1  [partly-cloudy-day, 67.62, 0.02, 371.47]   \n",
       "2  [partly-cloudy-day, 67.71, 0.06, 361.57]   \n",
       "3               [rain, 64.71, 0.55, 351.51]   \n",
       "4                [rain, 63.65, 0.5, 351.21]   \n",
       "5               [rain, 66.61, 0.52, 338.81]   \n",
       "6             [cloudy, 65.57, 0.04, 319.67]   \n",
       "\n",
       "                                        19  \\\n",
       "0               [rain, 69.12, 0.54, 368.6]   \n",
       "1          [clear-day, 65.83, 0.03, 370.2]   \n",
       "2  [partly-cloudy-day, 65.64, 0.06, 360.3]   \n",
       "3               [rain, 62.95, 0.56, 350.9]   \n",
       "4               [rain, 62.22, 0.43, 350.3]   \n",
       "5                 [rain, 64.6, 0.5, 339.2]   \n",
       "6  [partly-cloudy-day, 64.47, 0.03, 318.8]   \n",
       "\n",
       "                                         20  \\\n",
       "0               [rain, 67.01, 0.55, 369.34]   \n",
       "1   [partly-cloudy-day, 63.5, 0.02, 368.99]   \n",
       "2  [partly-cloudy-day, 62.89, 0.05, 359.35]   \n",
       "3                [rain, 60.96, 0.54, 349.9]   \n",
       "4               [rain, 60.09, 0.29, 349.02]   \n",
       "5               [rain, 61.56, 0.35, 338.81]   \n",
       "6  [partly-cloudy-day, 61.21, 0.02, 317.62]   \n",
       "\n",
       "                                           21  \\\n",
       "0                 [rain, 64.55, 0.53, 370.48]   \n",
       "1  [partly-cloudy-night, 61.41, 0.01, 367.85]   \n",
       "2  [partly-cloudy-night, 60.46, 0.03, 358.61]   \n",
       "3                 [rain, 59.23, 0.45, 348.78]   \n",
       "4    [partly-cloudy-day, 58.32, 0.15, 347.46]   \n",
       "5    [partly-cloudy-day, 58.08, 0.14, 338.02]   \n",
       "6    [partly-cloudy-day, 57.01, 0.01, 316.37]   \n",
       "\n",
       "                                          22  \\\n",
       "0                 [rain, 61.98, 0.52, 371.5]   \n",
       "1       [partly-cloudy-night, 59.57, 0, 367]   \n",
       "2  [partly-cloudy-night, 58.36, 0.02, 358.1]   \n",
       "3    [partly-cloudy-night, 57.91, 0.18, 348]   \n",
       "4    [partly-cloudy-night, 57.01, 0.05, 346]   \n",
       "5             [clear-night, 55.2, 0.01, 337]   \n",
       "6             [clear-night, 54.02, 0, 315.3]   \n",
       "\n",
       "                                           23  \n",
       "0                  [rain, 60.03, 0.5, 372.19]  \n",
       "1       [partly-cloudy-night, 57.7, 0, 366.7]  \n",
       "2  [partly-cloudy-night, 56.86, 0.01, 357.79]  \n",
       "3   [partly-cloudy-night, 56.83, 0.1, 347.84]  \n",
       "4  [partly-cloudy-night, 53.94, 0.02, 344.64]  \n",
       "5             [clear-night, 53.32, 0, 335.69]  \n",
       "6           [clear-night, 53.52, 0.01, 314.5]  \n",
       "\n",
       "[7 rows x 24 columns]"
      ]
     },
     "execution_count": 178,
     "metadata": {},
     "output_type": "execute_result"
    }
   ],
   "source": [
    "x = len(df_current['hourly.data'][0])\n",
    "y = len(df_current['hourly.data'])\n",
    "w = len(df_current['daily.data'])\n",
    "\n",
    "keys = ['icon','temperature','precipProbability','ozone']   #to be defined according to interests\n",
    "\n",
    "# df_hourly is a List comprehension in three parts : \n",
    "# 1)goes through all the days 2)goes through all the hours 3) goes through the 'keys' list created to select only this data\n",
    "df_hourly = pd.DataFrame([[[df_current['hourly.data'][days][hours][key] for key in keys] for hours in range(x)] for days in range(y)])\n",
    "df_daily = pd.DataFrame([df_current['daily.data'][days][0] for days in range(w)],index= df_current['utc.date'])\n",
    "\n",
    "\n",
    "# change the index into a column\n",
    "df_daily.reset_index(level=1, inplace=True)\n",
    "#df_daily.head(2)\n",
    "\n",
    "# 24 hours (x) of meteo data for 7 days (y)\n",
    "df_hourly"
   ]
  },
  {
   "cell_type": "code",
   "execution_count": 179,
   "metadata": {
    "collapsed": false
   },
   "outputs": [
    {
     "data": {
      "text/plain": [
       "52.59"
      ]
     },
     "execution_count": 179,
     "metadata": {},
     "output_type": "execute_result"
    }
   ],
   "source": [
    "#display weather day 1 at midnight\n",
    "df_hourly[0][0][1]"
   ]
  },
  {
   "cell_type": "code",
   "execution_count": 181,
   "metadata": {
    "collapsed": false
   },
   "outputs": [
    {
     "data": {
      "text/html": [
       "<div style=\"max-height:1000px;max-width:1500px;overflow:auto;\">\n",
       "<table border=\"1\" class=\"dataframe\">\n",
       "  <thead>\n",
       "    <tr style=\"text-align: right;\">\n",
       "      <th></th>\n",
       "      <th>15:07:50</th>\n",
       "      <th>16:07:50</th>\n",
       "      <th>17:07:50</th>\n",
       "      <th>18:07:50</th>\n",
       "      <th>19:07:50</th>\n",
       "      <th>20:07:50</th>\n",
       "      <th>21:07:50</th>\n",
       "      <th>22:07:50</th>\n",
       "      <th>23:07:50</th>\n",
       "      <th>00:07:50</th>\n",
       "      <th>...</th>\n",
       "      <th>05:07:50</th>\n",
       "      <th>06:07:50</th>\n",
       "      <th>07:07:50</th>\n",
       "      <th>08:07:50</th>\n",
       "      <th>09:07:50</th>\n",
       "      <th>10:07:50</th>\n",
       "      <th>11:07:50</th>\n",
       "      <th>12:07:50</th>\n",
       "      <th>13:07:50</th>\n",
       "      <th>14:07:50</th>\n",
       "    </tr>\n",
       "    <tr>\n",
       "      <th>utc.date</th>\n",
       "      <th></th>\n",
       "      <th></th>\n",
       "      <th></th>\n",
       "      <th></th>\n",
       "      <th></th>\n",
       "      <th></th>\n",
       "      <th></th>\n",
       "      <th></th>\n",
       "      <th></th>\n",
       "      <th></th>\n",
       "      <th></th>\n",
       "      <th></th>\n",
       "      <th></th>\n",
       "      <th></th>\n",
       "      <th></th>\n",
       "      <th></th>\n",
       "      <th></th>\n",
       "      <th></th>\n",
       "      <th></th>\n",
       "      <th></th>\n",
       "      <th></th>\n",
       "    </tr>\n",
       "  </thead>\n",
       "  <tbody>\n",
       "    <tr>\n",
       "      <th>2016-05-27</th>\n",
       "      <td>                 [rain, 52.59, 0.41, 381.6]</td>\n",
       "      <td>                [rain, 52.05, 0.28, 382.8]</td>\n",
       "      <td>    [partly-cloudy-night, 51.54, 0, 382.26]</td>\n",
       "      <td>    [partly-cloudy-night, 51.06, 0, 380.97]</td>\n",
       "      <td>    [partly-cloudy-night, 50.69, 0, 379.7]</td>\n",
       "      <td>  [partly-cloudy-night, 51.12, 0, 378.67]</td>\n",
       "      <td>    [partly-cloudy-day, 51.68, 0, 377.67]</td>\n",
       "      <td>    [partly-cloudy-day, 52.37, 0, 376.8]</td>\n",
       "      <td>    [partly-cloudy-day, 54.61, 0, 376.15]</td>\n",
       "      <td>     [partly-cloudy-day, 56.6, 0, 375.63]</td>\n",
       "      <td>...</td>\n",
       "      <td>            [clear-day, 67.18, 0, 372.01]</td>\n",
       "      <td>            [clear-day, 68.13, 0, 370.47]</td>\n",
       "      <td>            [clear-day, 69.91, 0, 369.3]</td>\n",
       "      <td>              [rain, 69.84, 0.24, 368.69]</td>\n",
       "      <td>              [rain, 69.62, 0.51, 368.44]</td>\n",
       "      <td>              [rain, 69.12, 0.54, 368.6]</td>\n",
       "      <td>              [rain, 67.01, 0.55, 369.34]</td>\n",
       "      <td>                [rain, 64.55, 0.53, 370.48]</td>\n",
       "      <td>                [rain, 61.98, 0.52, 371.5]</td>\n",
       "      <td>                 [rain, 60.03, 0.5, 372.19]</td>\n",
       "    </tr>\n",
       "    <tr>\n",
       "      <th>2016-05-28</th>\n",
       "      <td>                  [rain, 57.49, 0.4, 372.7]</td>\n",
       "      <td>                [rain, 55.75, 0.28, 373.3]</td>\n",
       "      <td> [partly-cloudy-night, 54.62, 0.15, 373.84]</td>\n",
       "      <td> [partly-cloudy-night, 53.79, 0.04, 374.34]</td>\n",
       "      <td>     [partly-cloudy-night, 53.2, 0, 374.8]</td>\n",
       "      <td>     [partly-cloudy-day, 52.7, 0, 375.21]</td>\n",
       "      <td>    [partly-cloudy-day, 52.17, 0, 375.57]</td>\n",
       "      <td>    [partly-cloudy-day, 51.78, 0, 375.9]</td>\n",
       "      <td>    [partly-cloudy-day, 53.85, 0, 376.23]</td>\n",
       "      <td>    [partly-cloudy-day, 55.88, 0, 376.53]</td>\n",
       "      <td>...</td>\n",
       "      <td>    [partly-cloudy-day, 66.13, 0, 375.81]</td>\n",
       "      <td>    [partly-cloudy-day, 68.51, 0, 374.98]</td>\n",
       "      <td>   [partly-cloudy-day, 70.35, 0.01, 374]</td>\n",
       "      <td> [partly-cloudy-day, 69.21, 0.01, 372.81]</td>\n",
       "      <td> [partly-cloudy-day, 67.62, 0.02, 371.47]</td>\n",
       "      <td>         [clear-day, 65.83, 0.03, 370.2]</td>\n",
       "      <td>  [partly-cloudy-day, 63.5, 0.02, 368.99]</td>\n",
       "      <td> [partly-cloudy-night, 61.41, 0.01, 367.85]</td>\n",
       "      <td>      [partly-cloudy-night, 59.57, 0, 367]</td>\n",
       "      <td>      [partly-cloudy-night, 57.7, 0, 366.7]</td>\n",
       "    </tr>\n",
       "    <tr>\n",
       "      <th>2016-05-29</th>\n",
       "      <td>             [clear-night, 56.75, 0, 366.6]</td>\n",
       "      <td>             [clear-night, 54.3, 0, 366.4]</td>\n",
       "      <td>             [clear-night, 53.1, 0, 365.39]</td>\n",
       "      <td>    [partly-cloudy-night, 52.05, 0, 364.09]</td>\n",
       "      <td>    [partly-cloudy-night, 50.77, 0, 363.3]</td>\n",
       "      <td>     [partly-cloudy-day, 51.36, 0, 363.4]</td>\n",
       "      <td>    [partly-cloudy-day, 52.06, 0, 363.99]</td>\n",
       "      <td>    [partly-cloudy-day, 52.69, 0, 364.7]</td>\n",
       "      <td>    [partly-cloudy-day, 54.59, 0, 365.51]</td>\n",
       "      <td>    [partly-cloudy-day, 56.58, 0, 366.43]</td>\n",
       "      <td>...</td>\n",
       "      <td> [partly-cloudy-day, 68.58, 0.01, 366.53]</td>\n",
       "      <td> [partly-cloudy-day, 70.19, 0.03, 365.54]</td>\n",
       "      <td> [partly-cloudy-day, 71.26, 0.05, 364.4]</td>\n",
       "      <td> [partly-cloudy-day, 69.76, 0.06, 363.06]</td>\n",
       "      <td> [partly-cloudy-day, 67.71, 0.06, 361.57]</td>\n",
       "      <td> [partly-cloudy-day, 65.64, 0.06, 360.3]</td>\n",
       "      <td> [partly-cloudy-day, 62.89, 0.05, 359.35]</td>\n",
       "      <td> [partly-cloudy-night, 60.46, 0.03, 358.61]</td>\n",
       "      <td> [partly-cloudy-night, 58.36, 0.02, 358.1]</td>\n",
       "      <td> [partly-cloudy-night, 56.86, 0.01, 357.79]</td>\n",
       "    </tr>\n",
       "    <tr>\n",
       "      <th>2016-05-30</th>\n",
       "      <td> [partly-cloudy-night, 56.25, 0.01, 357.97]</td>\n",
       "      <td> [partly-cloudy-night, 54.09, 0.01, 357.9]</td>\n",
       "      <td> [partly-cloudy-night, 53.19, 0.02, 358.64]</td>\n",
       "      <td> [partly-cloudy-night, 52.61, 0.03, 359.67]</td>\n",
       "      <td> [partly-cloudy-night, 51.72, 0.04, 360.3]</td>\n",
       "      <td> [partly-cloudy-day, 52.32, 0.04, 360.11]</td>\n",
       "      <td> [partly-cloudy-day, 52.93, 0.05, 359.51]</td>\n",
       "      <td> [partly-cloudy-day, 53.38, 0.05, 359.1]</td>\n",
       "      <td> [partly-cloudy-day, 54.56, 0.05, 359.25]</td>\n",
       "      <td> [partly-cloudy-day, 55.73, 0.06, 359.57]</td>\n",
       "      <td>...</td>\n",
       "      <td>  [partly-cloudy-day, 65.3, 0.18, 355.06]</td>\n",
       "      <td>              [rain, 66.56, 0.31, 353.78]</td>\n",
       "      <td>               [rain, 67.4, 0.47, 352.7]</td>\n",
       "      <td>              [rain, 66.29, 0.52, 352.01]</td>\n",
       "      <td>              [rain, 64.71, 0.55, 351.51]</td>\n",
       "      <td>              [rain, 62.95, 0.56, 350.9]</td>\n",
       "      <td>               [rain, 60.96, 0.54, 349.9]</td>\n",
       "      <td>                [rain, 59.23, 0.45, 348.78]</td>\n",
       "      <td>   [partly-cloudy-night, 57.91, 0.18, 348]</td>\n",
       "      <td>  [partly-cloudy-night, 56.83, 0.1, 347.84]</td>\n",
       "    </tr>\n",
       "    <tr>\n",
       "      <th>2016-05-31</th>\n",
       "      <td> [partly-cloudy-night, 57.78, 0.11, 348.13]</td>\n",
       "      <td>              [cloudy, 55.33, 0.08, 348.2]</td>\n",
       "      <td>              [cloudy, 53.93, 0.07, 348.26]</td>\n",
       "      <td>              [cloudy, 54.49, 0.07, 348.33]</td>\n",
       "      <td>              [cloudy, 54.92, 0.07, 348.4]</td>\n",
       "      <td>            [cloudy, 55.21, 0.07, 348.47]</td>\n",
       "      <td>            [cloudy, 55.47, 0.07, 348.55]</td>\n",
       "      <td>            [cloudy, 55.53, 0.08, 348.7]</td>\n",
       "      <td>             [cloudy, 55.93, 0.1, 348.96]</td>\n",
       "      <td>            [cloudy, 56.43, 0.13, 349.29]</td>\n",
       "      <td>...</td>\n",
       "      <td>              [rain, 63.03, 0.52, 351.03]</td>\n",
       "      <td>              [rain, 64.57, 0.52, 351.76]</td>\n",
       "      <td>              [rain, 65.57, 0.52, 352.1]</td>\n",
       "      <td>              [rain, 64.87, 0.51, 351.85]</td>\n",
       "      <td>               [rain, 63.65, 0.5, 351.21]</td>\n",
       "      <td>              [rain, 62.22, 0.43, 350.3]</td>\n",
       "      <td>              [rain, 60.09, 0.29, 349.02]</td>\n",
       "      <td>   [partly-cloudy-day, 58.32, 0.15, 347.46]</td>\n",
       "      <td>   [partly-cloudy-night, 57.01, 0.05, 346]</td>\n",
       "      <td> [partly-cloudy-night, 53.94, 0.02, 344.64]</td>\n",
       "    </tr>\n",
       "    <tr>\n",
       "      <th>2016-06-01</th>\n",
       "      <td> [partly-cloudy-night, 55.34, 0.03, 343.73]</td>\n",
       "      <td>              [cloudy, 52.43, 0.01, 342.6]</td>\n",
       "      <td> [partly-cloudy-night, 49.81, 0.01, 342.32]</td>\n",
       "      <td>    [partly-cloudy-night, 49.42, 0, 342.51]</td>\n",
       "      <td>    [partly-cloudy-night, 49.98, 0, 343.5]</td>\n",
       "      <td>    [partly-cloudy-day, 51.05, 0, 345.93]</td>\n",
       "      <td>    [partly-cloudy-day, 52.89, 0, 349.15]</td>\n",
       "      <td>    [partly-cloudy-day, 54.68, 0, 351.5]</td>\n",
       "      <td> [partly-cloudy-day, 56.56, 0.02, 352.53]</td>\n",
       "      <td> [partly-cloudy-day, 58.59, 0.06, 352.69]</td>\n",
       "      <td>...</td>\n",
       "      <td>              [rain, 66.98, 0.51, 339.67]</td>\n",
       "      <td>              [rain, 67.98, 0.53, 338.45]</td>\n",
       "      <td>              [rain, 68.26, 0.54, 337.8]</td>\n",
       "      <td>               [rain, 67.8, 0.53, 338.01]</td>\n",
       "      <td>              [rain, 66.61, 0.52, 338.81]</td>\n",
       "      <td>                [rain, 64.6, 0.5, 339.2]</td>\n",
       "      <td>              [rain, 61.56, 0.35, 338.81]</td>\n",
       "      <td>   [partly-cloudy-day, 58.08, 0.14, 338.02]</td>\n",
       "      <td>            [clear-night, 55.2, 0.01, 337]</td>\n",
       "      <td>            [clear-night, 53.32, 0, 335.69]</td>\n",
       "    </tr>\n",
       "    <tr>\n",
       "      <th>2016-06-02</th>\n",
       "      <td>             [clear-night, 54.4, 0, 334.13]</td>\n",
       "      <td>            [clear-night, 51.42, 0, 332.7]</td>\n",
       "      <td>            [clear-night, 48.91, 0, 331.35]</td>\n",
       "      <td>             [clear-night, 49.39, 0, 330.1]</td>\n",
       "      <td>            [clear-night, 50.54, 0, 329.3]</td>\n",
       "      <td>            [clear-day, 51.04, 0, 328.99]</td>\n",
       "      <td>               [clear-day, 52, 0, 329.11]</td>\n",
       "      <td>            [clear-day, 53.02, 0, 329.9]</td>\n",
       "      <td>             [clear-day, 54.12, 0, 332.2]</td>\n",
       "      <td> [partly-cloudy-day, 55.51, 0.01, 335.16]</td>\n",
       "      <td>...</td>\n",
       "      <td>  [partly-cloudy-day, 63.17, 0.03, 325.2]</td>\n",
       "      <td> [partly-cloudy-day, 64.21, 0.04, 323.23]</td>\n",
       "      <td>             [cloudy, 64.9, 0.04, 321.6]</td>\n",
       "      <td>            [cloudy, 65.44, 0.04, 320.46]</td>\n",
       "      <td>            [cloudy, 65.57, 0.04, 319.67]</td>\n",
       "      <td> [partly-cloudy-day, 64.47, 0.03, 318.8]</td>\n",
       "      <td> [partly-cloudy-day, 61.21, 0.02, 317.62]</td>\n",
       "      <td>   [partly-cloudy-day, 57.01, 0.01, 316.37]</td>\n",
       "      <td>            [clear-night, 54.02, 0, 315.3]</td>\n",
       "      <td>          [clear-night, 53.52, 0.01, 314.5]</td>\n",
       "    </tr>\n",
       "  </tbody>\n",
       "</table>\n",
       "<p>7 rows × 24 columns</p>\n",
       "</div>"
      ],
      "text/plain": [
       "                                              15:07:50  \\\n",
       "utc.date                                                 \n",
       "2016-05-27                  [rain, 52.59, 0.41, 381.6]   \n",
       "2016-05-28                   [rain, 57.49, 0.4, 372.7]   \n",
       "2016-05-29              [clear-night, 56.75, 0, 366.6]   \n",
       "2016-05-30  [partly-cloudy-night, 56.25, 0.01, 357.97]   \n",
       "2016-05-31  [partly-cloudy-night, 57.78, 0.11, 348.13]   \n",
       "2016-06-01  [partly-cloudy-night, 55.34, 0.03, 343.73]   \n",
       "2016-06-02              [clear-night, 54.4, 0, 334.13]   \n",
       "\n",
       "                                             16:07:50  \\\n",
       "utc.date                                                \n",
       "2016-05-27                 [rain, 52.05, 0.28, 382.8]   \n",
       "2016-05-28                 [rain, 55.75, 0.28, 373.3]   \n",
       "2016-05-29              [clear-night, 54.3, 0, 366.4]   \n",
       "2016-05-30  [partly-cloudy-night, 54.09, 0.01, 357.9]   \n",
       "2016-05-31               [cloudy, 55.33, 0.08, 348.2]   \n",
       "2016-06-01               [cloudy, 52.43, 0.01, 342.6]   \n",
       "2016-06-02             [clear-night, 51.42, 0, 332.7]   \n",
       "\n",
       "                                              17:07:50  \\\n",
       "utc.date                                                 \n",
       "2016-05-27     [partly-cloudy-night, 51.54, 0, 382.26]   \n",
       "2016-05-28  [partly-cloudy-night, 54.62, 0.15, 373.84]   \n",
       "2016-05-29              [clear-night, 53.1, 0, 365.39]   \n",
       "2016-05-30  [partly-cloudy-night, 53.19, 0.02, 358.64]   \n",
       "2016-05-31               [cloudy, 53.93, 0.07, 348.26]   \n",
       "2016-06-01  [partly-cloudy-night, 49.81, 0.01, 342.32]   \n",
       "2016-06-02             [clear-night, 48.91, 0, 331.35]   \n",
       "\n",
       "                                              18:07:50  \\\n",
       "utc.date                                                 \n",
       "2016-05-27     [partly-cloudy-night, 51.06, 0, 380.97]   \n",
       "2016-05-28  [partly-cloudy-night, 53.79, 0.04, 374.34]   \n",
       "2016-05-29     [partly-cloudy-night, 52.05, 0, 364.09]   \n",
       "2016-05-30  [partly-cloudy-night, 52.61, 0.03, 359.67]   \n",
       "2016-05-31               [cloudy, 54.49, 0.07, 348.33]   \n",
       "2016-06-01     [partly-cloudy-night, 49.42, 0, 342.51]   \n",
       "2016-06-02              [clear-night, 49.39, 0, 330.1]   \n",
       "\n",
       "                                             19:07:50  \\\n",
       "utc.date                                                \n",
       "2016-05-27     [partly-cloudy-night, 50.69, 0, 379.7]   \n",
       "2016-05-28      [partly-cloudy-night, 53.2, 0, 374.8]   \n",
       "2016-05-29     [partly-cloudy-night, 50.77, 0, 363.3]   \n",
       "2016-05-30  [partly-cloudy-night, 51.72, 0.04, 360.3]   \n",
       "2016-05-31               [cloudy, 54.92, 0.07, 348.4]   \n",
       "2016-06-01     [partly-cloudy-night, 49.98, 0, 343.5]   \n",
       "2016-06-02             [clear-night, 50.54, 0, 329.3]   \n",
       "\n",
       "                                            20:07:50  \\\n",
       "utc.date                                               \n",
       "2016-05-27   [partly-cloudy-night, 51.12, 0, 378.67]   \n",
       "2016-05-28      [partly-cloudy-day, 52.7, 0, 375.21]   \n",
       "2016-05-29      [partly-cloudy-day, 51.36, 0, 363.4]   \n",
       "2016-05-30  [partly-cloudy-day, 52.32, 0.04, 360.11]   \n",
       "2016-05-31             [cloudy, 55.21, 0.07, 348.47]   \n",
       "2016-06-01     [partly-cloudy-day, 51.05, 0, 345.93]   \n",
       "2016-06-02             [clear-day, 51.04, 0, 328.99]   \n",
       "\n",
       "                                            21:07:50  \\\n",
       "utc.date                                               \n",
       "2016-05-27     [partly-cloudy-day, 51.68, 0, 377.67]   \n",
       "2016-05-28     [partly-cloudy-day, 52.17, 0, 375.57]   \n",
       "2016-05-29     [partly-cloudy-day, 52.06, 0, 363.99]   \n",
       "2016-05-30  [partly-cloudy-day, 52.93, 0.05, 359.51]   \n",
       "2016-05-31             [cloudy, 55.47, 0.07, 348.55]   \n",
       "2016-06-01     [partly-cloudy-day, 52.89, 0, 349.15]   \n",
       "2016-06-02                [clear-day, 52, 0, 329.11]   \n",
       "\n",
       "                                           22:07:50  \\\n",
       "utc.date                                              \n",
       "2016-05-27     [partly-cloudy-day, 52.37, 0, 376.8]   \n",
       "2016-05-28     [partly-cloudy-day, 51.78, 0, 375.9]   \n",
       "2016-05-29     [partly-cloudy-day, 52.69, 0, 364.7]   \n",
       "2016-05-30  [partly-cloudy-day, 53.38, 0.05, 359.1]   \n",
       "2016-05-31             [cloudy, 55.53, 0.08, 348.7]   \n",
       "2016-06-01     [partly-cloudy-day, 54.68, 0, 351.5]   \n",
       "2016-06-02             [clear-day, 53.02, 0, 329.9]   \n",
       "\n",
       "                                            23:07:50  \\\n",
       "utc.date                                               \n",
       "2016-05-27     [partly-cloudy-day, 54.61, 0, 376.15]   \n",
       "2016-05-28     [partly-cloudy-day, 53.85, 0, 376.23]   \n",
       "2016-05-29     [partly-cloudy-day, 54.59, 0, 365.51]   \n",
       "2016-05-30  [partly-cloudy-day, 54.56, 0.05, 359.25]   \n",
       "2016-05-31              [cloudy, 55.93, 0.1, 348.96]   \n",
       "2016-06-01  [partly-cloudy-day, 56.56, 0.02, 352.53]   \n",
       "2016-06-02              [clear-day, 54.12, 0, 332.2]   \n",
       "\n",
       "                                            00:07:50  \\\n",
       "utc.date                                               \n",
       "2016-05-27      [partly-cloudy-day, 56.6, 0, 375.63]   \n",
       "2016-05-28     [partly-cloudy-day, 55.88, 0, 376.53]   \n",
       "2016-05-29     [partly-cloudy-day, 56.58, 0, 366.43]   \n",
       "2016-05-30  [partly-cloudy-day, 55.73, 0.06, 359.57]   \n",
       "2016-05-31             [cloudy, 56.43, 0.13, 349.29]   \n",
       "2016-06-01  [partly-cloudy-day, 58.59, 0.06, 352.69]   \n",
       "2016-06-02  [partly-cloudy-day, 55.51, 0.01, 335.16]   \n",
       "\n",
       "                               ...                      \\\n",
       "utc.date                       ...                       \n",
       "2016-05-27                     ...                       \n",
       "2016-05-28                     ...                       \n",
       "2016-05-29                     ...                       \n",
       "2016-05-30                     ...                       \n",
       "2016-05-31                     ...                       \n",
       "2016-06-01                     ...                       \n",
       "2016-06-02                     ...                       \n",
       "\n",
       "                                            05:07:50  \\\n",
       "utc.date                                               \n",
       "2016-05-27             [clear-day, 67.18, 0, 372.01]   \n",
       "2016-05-28     [partly-cloudy-day, 66.13, 0, 375.81]   \n",
       "2016-05-29  [partly-cloudy-day, 68.58, 0.01, 366.53]   \n",
       "2016-05-30   [partly-cloudy-day, 65.3, 0.18, 355.06]   \n",
       "2016-05-31               [rain, 63.03, 0.52, 351.03]   \n",
       "2016-06-01               [rain, 66.98, 0.51, 339.67]   \n",
       "2016-06-02   [partly-cloudy-day, 63.17, 0.03, 325.2]   \n",
       "\n",
       "                                            06:07:50  \\\n",
       "utc.date                                               \n",
       "2016-05-27             [clear-day, 68.13, 0, 370.47]   \n",
       "2016-05-28     [partly-cloudy-day, 68.51, 0, 374.98]   \n",
       "2016-05-29  [partly-cloudy-day, 70.19, 0.03, 365.54]   \n",
       "2016-05-30               [rain, 66.56, 0.31, 353.78]   \n",
       "2016-05-31               [rain, 64.57, 0.52, 351.76]   \n",
       "2016-06-01               [rain, 67.98, 0.53, 338.45]   \n",
       "2016-06-02  [partly-cloudy-day, 64.21, 0.04, 323.23]   \n",
       "\n",
       "                                           07:07:50  \\\n",
       "utc.date                                              \n",
       "2016-05-27             [clear-day, 69.91, 0, 369.3]   \n",
       "2016-05-28    [partly-cloudy-day, 70.35, 0.01, 374]   \n",
       "2016-05-29  [partly-cloudy-day, 71.26, 0.05, 364.4]   \n",
       "2016-05-30                [rain, 67.4, 0.47, 352.7]   \n",
       "2016-05-31               [rain, 65.57, 0.52, 352.1]   \n",
       "2016-06-01               [rain, 68.26, 0.54, 337.8]   \n",
       "2016-06-02              [cloudy, 64.9, 0.04, 321.6]   \n",
       "\n",
       "                                            08:07:50  \\\n",
       "utc.date                                               \n",
       "2016-05-27               [rain, 69.84, 0.24, 368.69]   \n",
       "2016-05-28  [partly-cloudy-day, 69.21, 0.01, 372.81]   \n",
       "2016-05-29  [partly-cloudy-day, 69.76, 0.06, 363.06]   \n",
       "2016-05-30               [rain, 66.29, 0.52, 352.01]   \n",
       "2016-05-31               [rain, 64.87, 0.51, 351.85]   \n",
       "2016-06-01                [rain, 67.8, 0.53, 338.01]   \n",
       "2016-06-02             [cloudy, 65.44, 0.04, 320.46]   \n",
       "\n",
       "                                            09:07:50  \\\n",
       "utc.date                                               \n",
       "2016-05-27               [rain, 69.62, 0.51, 368.44]   \n",
       "2016-05-28  [partly-cloudy-day, 67.62, 0.02, 371.47]   \n",
       "2016-05-29  [partly-cloudy-day, 67.71, 0.06, 361.57]   \n",
       "2016-05-30               [rain, 64.71, 0.55, 351.51]   \n",
       "2016-05-31                [rain, 63.65, 0.5, 351.21]   \n",
       "2016-06-01               [rain, 66.61, 0.52, 338.81]   \n",
       "2016-06-02             [cloudy, 65.57, 0.04, 319.67]   \n",
       "\n",
       "                                           10:07:50  \\\n",
       "utc.date                                              \n",
       "2016-05-27               [rain, 69.12, 0.54, 368.6]   \n",
       "2016-05-28          [clear-day, 65.83, 0.03, 370.2]   \n",
       "2016-05-29  [partly-cloudy-day, 65.64, 0.06, 360.3]   \n",
       "2016-05-30               [rain, 62.95, 0.56, 350.9]   \n",
       "2016-05-31               [rain, 62.22, 0.43, 350.3]   \n",
       "2016-06-01                 [rain, 64.6, 0.5, 339.2]   \n",
       "2016-06-02  [partly-cloudy-day, 64.47, 0.03, 318.8]   \n",
       "\n",
       "                                            11:07:50  \\\n",
       "utc.date                                               \n",
       "2016-05-27               [rain, 67.01, 0.55, 369.34]   \n",
       "2016-05-28   [partly-cloudy-day, 63.5, 0.02, 368.99]   \n",
       "2016-05-29  [partly-cloudy-day, 62.89, 0.05, 359.35]   \n",
       "2016-05-30                [rain, 60.96, 0.54, 349.9]   \n",
       "2016-05-31               [rain, 60.09, 0.29, 349.02]   \n",
       "2016-06-01               [rain, 61.56, 0.35, 338.81]   \n",
       "2016-06-02  [partly-cloudy-day, 61.21, 0.02, 317.62]   \n",
       "\n",
       "                                              12:07:50  \\\n",
       "utc.date                                                 \n",
       "2016-05-27                 [rain, 64.55, 0.53, 370.48]   \n",
       "2016-05-28  [partly-cloudy-night, 61.41, 0.01, 367.85]   \n",
       "2016-05-29  [partly-cloudy-night, 60.46, 0.03, 358.61]   \n",
       "2016-05-30                 [rain, 59.23, 0.45, 348.78]   \n",
       "2016-05-31    [partly-cloudy-day, 58.32, 0.15, 347.46]   \n",
       "2016-06-01    [partly-cloudy-day, 58.08, 0.14, 338.02]   \n",
       "2016-06-02    [partly-cloudy-day, 57.01, 0.01, 316.37]   \n",
       "\n",
       "                                             13:07:50  \\\n",
       "utc.date                                                \n",
       "2016-05-27                 [rain, 61.98, 0.52, 371.5]   \n",
       "2016-05-28       [partly-cloudy-night, 59.57, 0, 367]   \n",
       "2016-05-29  [partly-cloudy-night, 58.36, 0.02, 358.1]   \n",
       "2016-05-30    [partly-cloudy-night, 57.91, 0.18, 348]   \n",
       "2016-05-31    [partly-cloudy-night, 57.01, 0.05, 346]   \n",
       "2016-06-01             [clear-night, 55.2, 0.01, 337]   \n",
       "2016-06-02             [clear-night, 54.02, 0, 315.3]   \n",
       "\n",
       "                                              14:07:50  \n",
       "utc.date                                                \n",
       "2016-05-27                  [rain, 60.03, 0.5, 372.19]  \n",
       "2016-05-28       [partly-cloudy-night, 57.7, 0, 366.7]  \n",
       "2016-05-29  [partly-cloudy-night, 56.86, 0.01, 357.79]  \n",
       "2016-05-30   [partly-cloudy-night, 56.83, 0.1, 347.84]  \n",
       "2016-05-31  [partly-cloudy-night, 53.94, 0.02, 344.64]  \n",
       "2016-06-01             [clear-night, 53.32, 0, 335.69]  \n",
       "2016-06-02           [clear-night, 53.52, 0.01, 314.5]  \n",
       "\n",
       "[7 rows x 24 columns]"
      ]
     },
     "execution_count": 181,
     "metadata": {},
     "output_type": "execute_result"
    }
   ],
   "source": [
    "df_hourly_new = pd.DataFrame([[[df_current['hourly.data'][days][hours][key] for key in keys] for hours in range(x)] for days in range(y)], index=df_current['utc.date'], columns=FromNowTo24h)\n",
    "df_hourly_new\n",
    "# 24 hours (x) of meteo data for 7 days (y)\n",
    "#df_hourly_new.reset_index(level=1, inplace=True)\n",
    "df_hourly_new"
   ]
  },
  {
   "cell_type": "code",
   "execution_count": 182,
   "metadata": {
    "collapsed": true
   },
   "outputs": [],
   "source": [
    "#df_hourly_new.to_json('new_weather.json')"
   ]
  }
 ],
 "metadata": {
  "kernelspec": {
   "display_name": "Python 2",
   "language": "python",
   "name": "python2"
  },
  "language_info": {
   "codemirror_mode": {
    "name": "ipython",
    "version": 2
   },
   "file_extension": ".py",
   "mimetype": "text/x-python",
   "name": "python",
   "nbconvert_exporter": "python",
   "pygments_lexer": "ipython2",
   "version": "2.7.6"
  }
 },
 "nbformat": 4,
 "nbformat_minor": 0
}
